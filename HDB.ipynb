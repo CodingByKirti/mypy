{
 "cells": [
  {
   "cell_type": "code",
   "execution_count": 17,
   "id": "9a1b4b87",
   "metadata": {},
   "outputs": [
    {
     "name": "stdout",
     "output_type": "stream",
     "text": [
      "Employee ID Employee Name Global Career Band Entity Manager Employee ID Entity Manager Employee Name Entity Manager Employee ID_GCB 4 Entity Manager Employee Name_GCB 4 Entity Manager Employee ID_GCB 3 Entity Manager Employee Name_GCB 3\n",
      "        101         Alice                  5                        201                          Bob                              201                                Bob                              301                            Charlie\n",
      "        201           Bob                  4                        301                      Charlie                                                                                                  301                            Charlie\n",
      "        301       Charlie                  3                        401                         Dana                                                                                                                                        \n",
      "        401          Dana                  2                       None                         None                                                                                                                                        \n",
      "        302           Eva                  5                        201                          Bob                              201                                Bob                              301                            Charlie\n",
      "        304         Kirti                  5                        305                        Inish                                                                                                  305                              Inish\n",
      "        307        Anshul                  4                        305                        Inish                                                                                                  305                              Inish\n",
      "        308        Sowmya                  5                        307                       Anshul                              307                             Anshul                              305                              Inish\n",
      "        305         Inish                  3                        306                        Vilma                                                                                                                                        \n",
      "        306         Vilma                  2                        504                     Abhishek                                                                                                                                        \n"
     ]
    }
   ],
   "source": [
    "import pandas as pd\n",
    "\n",
    "# Sample data\n",
    "data = [\n",
    "    [\"101\", \"Alice\",    \"5\", \"201\", \"Bob\"],\n",
    "    [\"201\", \"Bob\",      \"4\", \"301\", \"Charlie\"],\n",
    "    [\"301\", \"Charlie\",  \"3\", \"401\", \"Dana\"],\n",
    "    [\"401\", \"Dana\",     \"2\", None,  None],\n",
    "    [\"302\", \"Eva\",      \"5\", \"201\", \"Bob\"],\n",
    "    [\"304\", \"Kirti\",    \"5\", \"305\", \"Inish\"],\n",
    "    [\"307\", \"Anshul\",   \"4\", \"305\", \"Inish\"],\n",
    "    [\"308\", \"Sowmya\",   \"5\", \"307\", \"Anshul\"],\n",
    "    [\"305\", \"Inish\",    \"3\", \"306\", \"Vilma\"],\n",
    "    [\"306\", \"Vilma\",    \"2\", \"504\", \"Abhishek\"],\n",
    "]\n",
    "\n",
    "columns = [\n",
    "    \"Employee ID\", \"Employee Name\", \"Global Career Band\",\n",
    "    \"Entity Manager Employee ID\", \"Entity Manager Employee Name\"\n",
    "]\n",
    "\n",
    "df = pd.DataFrame(data, columns=columns)\n",
    "\n",
    "# Create lookup dictionary\n",
    "employee_lookup = df.set_index(\"Employee ID\").to_dict(\"index\")\n",
    "\n",
    "# Add GCB 4 and GCB 3 output columns\n",
    "df[\"Entity Manager Employee ID_GCB 4\"] = \"\"\n",
    "df[\"Entity Manager Employee Name_GCB 4\"] = \"\"\n",
    "df[\"Entity Manager Employee ID_GCB 3\"] = \"\"\n",
    "df[\"Entity Manager Employee Name_GCB 3\"] = \"\"\n",
    "\n",
    "# 🔁 Updated logic: Climb upward until GCB 4 & 3 found\n",
    "def trace_managers_gcb_4_and_3(start_id):\n",
    "    gcb4 = None\n",
    "    gcb3 = None\n",
    "    visited = []\n",
    "\n",
    "    current_id = start_id\n",
    "    while current_id and current_id in employee_lookup:\n",
    "        visited.append(current_id)\n",
    "        manager = employee_lookup[current_id]\n",
    "        gcb = str(manager.get(\"Global Career Band\", \"\")).strip()\n",
    "\n",
    "        if not gcb4 and gcb == \"4\":\n",
    "            gcb4 = (current_id, manager.get(\"Employee Name\"))\n",
    "        elif not gcb3 and gcb == \"3\":\n",
    "            gcb3 = (current_id, manager.get(\"Employee Name\"))\n",
    "        \n",
    "        # Stop if both found\n",
    "        if gcb4 and gcb3:\n",
    "            break\n",
    "\n",
    "        current_id = manager.get(\"Entity Manager Employee ID\")\n",
    "\n",
    "    return gcb4, gcb3\n",
    "\n",
    "# Apply to each row\n",
    "for i in df.index:\n",
    "    row = df.loc[i]\n",
    "    mgr_id = row[\"Entity Manager Employee ID\"]\n",
    "\n",
    "    if pd.notna(mgr_id):\n",
    "        gcb4, gcb3 = trace_managers_gcb_4_and_3(mgr_id)\n",
    "\n",
    "        if gcb4:\n",
    "            df.loc[i, \"Entity Manager Employee ID_GCB 4\"] = gcb4[0]\n",
    "            df.loc[i, \"Entity Manager Employee Name_GCB 4\"] = gcb4[1]\n",
    "\n",
    "        if gcb3:\n",
    "            df.loc[i, \"Entity Manager Employee ID_GCB 3\"] = gcb3[0]\n",
    "            df.loc[i, \"Entity Manager Employee Name_GCB 3\"] = gcb3[1]\n",
    "\n",
    "# ✅ Final output\n",
    "print(df.to_string(index=False))\n"
   ]
  },
  {
   "cell_type": "code",
   "execution_count": 18,
   "id": "40e937cf",
   "metadata": {},
   "outputs": [],
   "source": [
    "df.to_excel(\"g1.xlsx\", index=False)"
   ]
  },
  {
   "cell_type": "code",
   "execution_count": null,
   "id": "3d4bd298",
   "metadata": {},
   "outputs": [],
   "source": [
    "wor"
   ]
  }
 ],
 "metadata": {
  "kernelspec": {
   "display_name": "Python 3",
   "language": "python",
   "name": "python3"
  },
  "language_info": {
   "codemirror_mode": {
    "name": "ipython",
    "version": 3
   },
   "file_extension": ".py",
   "mimetype": "text/x-python",
   "name": "python",
   "nbconvert_exporter": "python",
   "pygments_lexer": "ipython3",
   "version": "3.8.8"
  }
 },
 "nbformat": 4,
 "nbformat_minor": 5
}
