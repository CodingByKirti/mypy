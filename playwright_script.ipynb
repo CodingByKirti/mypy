{
 "cells": [
  {
   "cell_type": "code",
   "execution_count": null,
   "id": "d9781224",
   "metadata": {},
   "outputs": [],
   "source": [
    "import asyncio\n",
    "from playwright.async_api import async_playwright, TimeoutError as PlaywrightTimeoutError\n",
    "\n",
    "async def run():\n",
    "    # Path to the Chrome executable\n",
    "    chrome_path = \"C:/Program Files/Google/Chrome/Application/chrome.exe\"  # Adjust if necessary\n",
    "\n",
    "    async with async_playwright() as playwright:\n",
    "        # Launch Chrome browser using the Chromium engine\n",
    "        browser = await playwright.chromium.launch(\n",
    "            executable_path=chrome_path,  # Launching Chrome explicitly\n",
    "            headless=False  # Run in a full browser window, not headless\n",
    "        )\n",
    "\n",
    "        # Open a new context (this is a fresh session)\n",
    "        context = await browser.new_context()\n",
    "\n",
    "        # Open a new page in that context\n",
    "        page = await context.new_page()\n",
    "\n",
    "        try:\n",
    "            # Navigate to the specified Angular-based website\n",
    "            await page.goto(\"https://www.example.com\")  # Replace with actual URL\n",
    "\n",
    "            # Wait for Angular to be fully loaded (networkidle ensures no ongoing requests)\n",
    "            await page.wait_for_load_state('networkidle')\n",
    "\n",
    "            # Wait for the button with the id 'loginSsoContinueBtn' to be available\n",
    "            await page.wait_for_selector('#loginSsoContinueBtn', timeout=15000)  # Timeout after 15s\n",
    "\n",
    "            # Click the button with id 'loginSsoContinueBtn'\n",
    "            await page.click('#loginSsoContinueBtn')\n",
    "\n",
    "        except PlaywrightTimeoutError:\n",
    "            print(\"The button or page took too long to load.\")\n",
    "        except Exception as e:\n",
    "            print(f\"An unexpected error occurred: {e}\")\n",
    "\n",
    "        # Keep the browser open after interacting with the page\n",
    "        print(\"The browser will remain open.\")\n",
    "        await asyncio.sleep(300)  # Keep open for 5 minutes or until manually closed\n",
    "\n",
    "# Run the main function\n",
    "if __name__ == \"__main__\":\n",
    "    asyncio.run(run())\n"
   ]
  }
 ],
 "metadata": {
  "kernelspec": {
   "display_name": "Python 3",
   "language": "python",
   "name": "python3"
  },
  "language_info": {
   "codemirror_mode": {
    "name": "ipython",
    "version": 3
   },
   "file_extension": ".py",
   "mimetype": "text/x-python",
   "name": "python",
   "nbconvert_exporter": "python",
   "pygments_lexer": "ipython3",
   "version": "3.8.8"
  }
 },
 "nbformat": 4,
 "nbformat_minor": 5
}
