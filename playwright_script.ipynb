{
 "cells": [
  {
   "cell_type": "code",
   "execution_count": null,
   "id": "d39e04d5",
   "metadata": {},
   "outputs": [],
   "source": [
    "import asyncio\n",
    "from playwright.async_api import async_playwright\n",
    "\n",
    "async def run():\n",
    "    # Path to the Edge executable\n",
    "    edge_path = \"C:/Program Files (x86)/Microsoft/Edge/Application/msedge.exe\"  # Adjust this if necessary\n",
    "\n",
    "    async with async_playwright() as playwright:\n",
    "        # Launch Edge browser using the Chromium engine\n",
    "        browser = await playwright.chromium.launch_persistent_context(\n",
    "            user_data_dir=\"C:/Users/KS/adata\",  # User's custom data directory\n",
    "            executable_path=edge_path,  # Launching Edge\n",
    "            headless=False  # Run in a full browser window, not headless\n",
    "        )\n",
    "\n",
    "        # Close the default homepage if it's open\n",
    "        if len(browser.pages) > 0:\n",
    "            await browser.pages[0].close()\n",
    "\n",
    "        # Open a new tab with the specified URL\n",
    "        page = await browser.new_page()\n",
    "        await page.goto(\"https://www.google.com\")  # Navigating to Google\n",
    "\n",
    "        # Example interaction: take a screenshot if needed\n",
    "        await page.screenshot(path=\"google_screenshot.png\")\n",
    "        \n",
    "        # Close browser after task completion\n",
    "        await browser.close()\n",
    "\n",
    "# Run the main function\n",
    "if __name__ == \"__main__\":\n",
    "    asyncio.run(run())\n"
   ]
  }
 ],
 "metadata": {
  "kernelspec": {
   "display_name": "Python 3",
   "language": "python",
   "name": "python3"
  },
  "language_info": {
   "codemirror_mode": {
    "name": "ipython",
    "version": 3
   },
   "file_extension": ".py",
   "mimetype": "text/x-python",
   "name": "python",
   "nbconvert_exporter": "python",
   "pygments_lexer": "ipython3",
   "version": "3.8.8"
  }
 },
 "nbformat": 4,
 "nbformat_minor": 5
}
