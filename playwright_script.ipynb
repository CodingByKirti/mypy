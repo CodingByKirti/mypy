{
 "cells": [
  {
   "cell_type": "code",
   "execution_count": null,
   "id": "0d12730e",
   "metadata": {},
   "outputs": [],
   "source": [
    "import asyncio\n",
    "from playwright.async_api import async_playwright\n",
    "\n",
    "async def run(playwright):\n",
    "    edge_path = \"C:/Program Files (x86)/Microsoft/Edge/Application/msedge.exe\"  # Adjust if necessary\n",
    "    browser = await playwright.chromium.launch_persistent_context(\n",
    "        user_data_dir=\"C:/Users/KS/adata\",  # User's custom data directory\n",
    "        executable_path=edge_path,\n",
    "        headless=False\n",
    "    )\n",
    "\n",
    "    # Close the default homepage if it's open\n",
    "    if len(browser.pages) > 0:\n",
    "        await browser.pages[0].close()\n",
    "\n",
    "    # Open a new tab with the specified URL\n",
    "    page = await browser.new_page()\n",
    "    await page.goto(\"https://www.google.com\")  # Navigating to Google\n",
    "    await page.screenshot(path=\"google_screenshot.png\")  # Take a screenshot\n",
    "\n",
    "    # Close browser after task completion\n",
    "    await browser.close()\n",
    "\n",
    "async def main():\n",
    "    playwright = await async_playwright()\n",
    "    await run(playwright)\n",
    "    await playwright.stop()  # Ensure Playwright is stopped\n",
    "\n",
    "if __name__ == \"__main__\":\n",
    "    asyncio.run(main())\n"
   ]
  }
 ],
 "metadata": {
  "kernelspec": {
   "display_name": "Python 3",
   "language": "python",
   "name": "python3"
  },
  "language_info": {
   "codemirror_mode": {
    "name": "ipython",
    "version": 3
   },
   "file_extension": ".py",
   "mimetype": "text/x-python",
   "name": "python",
   "nbconvert_exporter": "python",
   "pygments_lexer": "ipython3",
   "version": "3.8.8"
  }
 },
 "nbformat": 4,
 "nbformat_minor": 5
}
