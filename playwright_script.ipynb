{
 "cells": [
  {
   "cell_type": "code",
   "execution_count": null,
   "id": "db1f799a",
   "metadata": {},
   "outputs": [],
   "source": [
    "import asyncio\n",
    "from playwright.async_api import async_playwright\n",
    "\n",
    "async def run():\n",
    "    # Path to the Edge executable\n",
    "    edge_path = \"C:/Program Files (x86)/Microsoft/Edge/Application/msedge.exe\"  # Adjust this if necessary\n",
    "\n",
    "    async with async_playwright() as playwright:\n",
    "        # Launch a new browser window\n",
    "        browser = await playwright.chromium.launch(\n",
    "            executable_path=edge_path,  # Launching Edge\n",
    "            headless=False  # Run in a full browser window, not headless\n",
    "        )\n",
    "\n",
    "        # Create a new browser context\n",
    "        context = await browser.new_context()\n",
    "\n",
    "        # Open a new tab in the new context\n",
    "        page = await context.new_page()\n",
    "\n",
    "        # Navigate to the specified URL\n",
    "        await page.goto(\"https://www.google.com\")  # Navigating to Google\n",
    "\n",
    "        # Example interaction: take a screenshot if needed\n",
    "        await page.screenshot(path=\"google_screenshot.png\")\n",
    "\n",
    "        # Keep the browser open for a while before closing (optional)\n",
    "        await asyncio.sleep(10)  # Adjust this duration as needed\n",
    "\n",
    "        # Close the context (and all its pages)\n",
    "        await context.close()\n",
    "\n",
    "        # Optionally close the browser if needed\n",
    "        await browser.close()\n",
    "\n",
    "# Run the main function\n",
    "if __name__ == \"__main__\":\n",
    "    asyncio.run(run())\n"
   ]
  }
 ],
 "metadata": {
  "kernelspec": {
   "display_name": "Python 3",
   "language": "python",
   "name": "python3"
  },
  "language_info": {
   "codemirror_mode": {
    "name": "ipython",
    "version": 3
   },
   "file_extension": ".py",
   "mimetype": "text/x-python",
   "name": "python",
   "nbconvert_exporter": "python",
   "pygments_lexer": "ipython3",
   "version": "3.8.8"
  }
 },
 "nbformat": 4,
 "nbformat_minor": 5
}
