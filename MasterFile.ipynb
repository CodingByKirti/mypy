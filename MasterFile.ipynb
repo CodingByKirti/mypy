{
 "cells": [
  {
   "cell_type": "code",
   "execution_count": 1,
   "id": "b0ad55b0",
   "metadata": {},
   "outputs": [
    {
     "name": "stdout",
     "output_type": "stream",
     "text": [
      "  Position ID Employee ID  Jan 24  Feb 24  Mar 24\n",
      "0      000123        E001       1       1       0\n",
      "1      000456        E002       1       0       0\n",
      "2      000789        E003       0       0       1\n"
     ]
    }
   ],
   "source": [
    "import pandas as pd\n",
    "\n",
    "# Initialize an empty DataFrame to capture changes\n",
    "changes_df = pd.DataFrame()\n",
    "\n",
    "# Initialize dictionaries to track the last known mappings\n",
    "position_employee_map = {}  # Tracks last known Employee ID for each Position ID\n",
    "additional_cols_map = {}    # Tracks last known values for additional columns per Position ID\n",
    "\n",
    "# Columns to check for changes\n",
    "additional_columns = ['Global Career Band', 'BF Level 4 Name', 'Work Location Country/Territory Name']\n",
    "\n",
    "# Loop through each month and the corresponding GHA file\n",
    "for month, gha_file in zip(months, gha_files):\n",
    "    # Load the GHA data for the current month\n",
    "    gha_month_df = pd.read_excel(gha_file, engine='openpyxl')\n",
    "    gha_month_df = gha_month_df.rename(columns={'Position Number': 'Position ID', 'Employee ID': 'Employee ID_gha'})\n",
    "    \n",
    "    # Iterate over each row in the current month's GHA data\n",
    "    for _, row in gha_month_df.iterrows():\n",
    "        pos_id = row['Position ID']\n",
    "        emp_id = row['Employee ID_gha']\n",
    "        \n",
    "        # Track if any change was detected for this row\n",
    "        changes_detected = False\n",
    "        description_list = []\n",
    "        \n",
    "        # Check for changes in Position ID -> Employee ID mapping\n",
    "        if pos_id in position_employee_map:\n",
    "            if position_employee_map[pos_id] != emp_id:\n",
    "                changes_detected = True\n",
    "                description_list.append('Employee ID Changed')\n",
    "                position_employee_map[pos_id] = emp_id  # Update the map with the new Employee ID\n",
    "        else:\n",
    "            # Add the initial Position ID -> Employee ID mapping\n",
    "            position_employee_map[pos_id] = emp_id\n",
    "\n",
    "        # Check for changes in additional columns\n",
    "        for col in additional_columns:\n",
    "            current_value = row[col]\n",
    "            if pos_id in additional_cols_map:\n",
    "                if additional_cols_map[pos_id][col] != current_value:\n",
    "                    changes_detected = True\n",
    "                    description_list.append(f\"{col} Changed\")\n",
    "                    additional_cols_map[pos_id][col] = current_value  # Update the map with the new column value\n",
    "            else:\n",
    "                # Initialize map for additional columns if not already present\n",
    "                additional_cols_map[pos_id] = {col: current_value}\n",
    "\n",
    "        # If changes were detected, append this row to changes_df\n",
    "        if changes_detected:\n",
    "            change_record = gha_month_df[gha_month_df['Position ID'] == pos_id].copy()\n",
    "            change_record['Change Month'] = month\n",
    "            change_record['Description'] = ', '.join(description_list)\n",
    "            changes_df = pd.concat([changes_df, change_record], ignore_index=True)\n",
    "\n",
    "# Select only the columns present in the master DataFrame, excluding MoM data and adding \"Change Month\" and \"Description\"\n",
    "master_columns = [col for col in master_df.columns if col not in month_columns]\n",
    "final_changes_df = changes_df[master_columns + ['Change Month', 'Description']]\n",
    "\n",
    "# Display the resulting DataFrame with captured changes\n",
    "print(\"Changes DataFrame:\")\n",
    "print(final_changes_df)\n"
   ]
  },
  {
   "cell_type": "code",
   "execution_count": null,
   "id": "bc228ded",
   "metadata": {},
   "outputs": [],
   "source": []
  }
 ],
 "metadata": {
  "kernelspec": {
   "display_name": "Python 3",
   "language": "python",
   "name": "python3"
  },
  "language_info": {
   "codemirror_mode": {
    "name": "ipython",
    "version": 3
   },
   "file_extension": ".py",
   "mimetype": "text/x-python",
   "name": "python",
   "nbconvert_exporter": "python",
   "pygments_lexer": "ipython3",
   "version": "3.8.8"
  }
 },
 "nbformat": 4,
 "nbformat_minor": 5
}
