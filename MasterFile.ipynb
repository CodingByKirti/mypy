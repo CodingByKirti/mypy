{
 "cells": [
  {
   "cell_type": "code",
   "execution_count": 1,
   "id": "b0ad55b0",
   "metadata": {},
   "outputs": [
    {
     "name": "stdout",
     "output_type": "stream",
     "text": [
      "  Position ID Employee ID  Jan 24  Feb 24  Mar 24\n",
      "0      000123        E001       1       1       0\n",
      "1      000456        E002       1       0       0\n",
      "2      000789        E003       0       0       1\n"
     ]
    }
   ],
   "source": [
    "import pandas as pd\n",
    "\n",
    "# Initialize an empty DataFrame to collect changes\n",
    "changes_df = pd.DataFrame(columns=master_df.columns)\n",
    "\n",
    "# Loop over each month's GHA file\n",
    "for gha_file in gha_files:\n",
    "    # Load the GHA data\n",
    "    gha_month_df = pd.read_csv(gha_file)\n",
    "    \n",
    "    # Ensure consistent column names in both DataFrames\n",
    "    gha_month_df = gha_month_df.rename(columns={'Position Number': 'Position ID', 'Employee ID': 'Employee ID_gha'})\n",
    "    \n",
    "    # Merge master with current month's GHA data on 'Position ID' and 'Employee ID'\n",
    "    merged_df = master_df.merge(gha_month_df[['Position ID', 'Employee ID_gha']], \n",
    "                                on='Position ID', \n",
    "                                how='left', \n",
    "                                indicator=True)\n",
    "    \n",
    "    # Find rows where 'Employee ID' from GHA is different or new\n",
    "    new_or_changed = merged_df[(merged_df['_merge'] == 'right_only') | \n",
    "                               (merged_df['Employee ID'] != merged_df['Employee ID_gha'])]\n",
    "    \n",
    "    # Append new or changed rows to changes_df\n",
    "    changes_df = pd.concat([changes_df, new_or_changed], ignore_index=True)\n",
    "\n",
    "# Drop '_merge' column if present\n",
    "if '_merge' in changes_df.columns:\n",
    "    changes_df = changes_df.drop(columns='_merge')\n",
    "\n",
    "# Append changes_df to master_df\n",
    "master_df = pd.concat([master_df, changes_df], ignore_index=True)\n",
    "\n",
    "# Ensure all columns are synchronized between master_df and changes_df\n",
    "master_df = master_df[changes_df.columns]\n",
    "\n",
    "# Save or print final result\n",
    "print(master_df)\n"
   ]
  },
  {
   "cell_type": "code",
   "execution_count": null,
   "id": "62b2dce8",
   "metadata": {},
   "outputs": [],
   "source": []
  }
 ],
 "metadata": {
  "kernelspec": {
   "display_name": "Python 3",
   "language": "python",
   "name": "python3"
  },
  "language_info": {
   "codemirror_mode": {
    "name": "ipython",
    "version": 3
   },
   "file_extension": ".py",
   "mimetype": "text/x-python",
   "name": "python",
   "nbconvert_exporter": "python",
   "pygments_lexer": "ipython3",
   "version": "3.8.8"
  }
 },
 "nbformat": 4,
 "nbformat_minor": 5
}
