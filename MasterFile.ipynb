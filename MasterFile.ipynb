{
 "cells": [
  {
   "cell_type": "code",
   "execution_count": 1,
   "id": "b0ad55b0",
   "metadata": {},
   "outputs": [
    {
     "name": "stdout",
     "output_type": "stream",
     "text": [
      "  Position ID Employee ID  Jan 24  Feb 24  Mar 24\n",
      "0      000123        E001       1       1       0\n",
      "1      000456        E002       1       0       0\n",
      "2      000789        E003       0       0       1\n"
     ]
    }
   ],
   "source": [
    "# Initialize an additional dictionary to track last known mappings of Employee ID to Position ID\n",
    "employee_position_map = {}\n",
    "\n",
    "# Loop through each month's GHA data file\n",
    "for month, gha_file in gha_files.items():\n",
    "    # Load the GHA data for the current month\n",
    "    gha_month_df = pd.read_csv(gha_file)\n",
    "    gha_month_df = gha_month_df.rename(columns={'Position Number': 'Position ID', 'Employee ID': 'Employee ID_gha'})\n",
    "\n",
    "    # Iterate over each row in the current month's GHA data\n",
    "    for _, row in gha_month_df.iterrows():\n",
    "        pos_id = row['Position ID']\n",
    "        emp_id = row['Employee ID_gha']\n",
    "        \n",
    "        # Check for changes in Position ID -> Employee ID mapping\n",
    "        if pos_id in position_employee_map:\n",
    "            if position_employee_map[pos_id] != emp_id:\n",
    "                change_record = master_df[master_df['Position ID'] == pos_id].copy()\n",
    "                change_record['Change Month'] = month\n",
    "                changes_df = pd.concat([changes_df, change_record], ignore_index=True)\n",
    "                position_employee_map[pos_id] = emp_id\n",
    "        else:\n",
    "            position_employee_map[pos_id] = emp_id\n",
    "\n",
    "        # Check for changes in Employee ID -> Position ID mapping\n",
    "        if emp_id in employee_position_map:\n",
    "            if employee_position_map[emp_id] != pos_id:\n",
    "                change_record = master_df[master_df['Employee ID'] == emp_id].copy()\n",
    "                change_record['Change Month'] = month\n",
    "                changes_df = pd.concat([changes_df, change_record], ignore_index=True)\n",
    "                employee_position_map[emp_id] = pos_id\n",
    "        else:\n",
    "            employee_position_map[emp_id] = pos_id\n",
    "\n",
    "# Remove duplicate changes based on Position ID and Employee ID combinations\n",
    "changes_df = changes_df.drop_duplicates(subset=['Position ID', 'Employee ID_gha'])\n",
    "\n",
    "# View the final DataFrame with captured changes\n",
    "print(\"Changes DataFrame:\")\n",
    "print(changes_df)\n"
   ]
  },
  {
   "cell_type": "code",
   "execution_count": null,
   "id": "b66b4302",
   "metadata": {},
   "outputs": [],
   "source": []
  }
 ],
 "metadata": {
  "kernelspec": {
   "display_name": "Python 3",
   "language": "python",
   "name": "python3"
  },
  "language_info": {
   "codemirror_mode": {
    "name": "ipython",
    "version": 3
   },
   "file_extension": ".py",
   "mimetype": "text/x-python",
   "name": "python",
   "nbconvert_exporter": "python",
   "pygments_lexer": "ipython3",
   "version": "3.8.8"
  }
 },
 "nbformat": 4,
 "nbformat_minor": 5
}
