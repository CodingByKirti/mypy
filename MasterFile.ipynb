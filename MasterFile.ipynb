{
 "cells": [
  {
   "cell_type": "code",
   "execution_count": 1,
   "id": "b0ad55b0",
   "metadata": {},
   "outputs": [
    {
     "name": "stdout",
     "output_type": "stream",
     "text": [
      "  Position ID Employee ID  Jan 24  Feb 24  Mar 24\n",
      "0      000123        E001       1       1       0\n",
      "1      000456        E002       1       0       0\n",
      "2      000789        E003       0       0       1\n"
     ]
    }
   ],
   "source": [
    "# Initialize an empty DataFrame to track changes in Position ID and Employee ID combinations\n",
    "changes_df = pd.DataFrame(columns=master_df.columns)\n",
    "\n",
    "# Loop through each month’s GHA and Open Position files\n",
    "for month, gha_file, open_pos_file in zip(month_columns, gha_files, open_pos_files):\n",
    "    \n",
    "    # Process GHA data\n",
    "    gha_month_df = pd.read_csv(gha_file)\n",
    "    gha_month_df['Position ID'] = gha_month_df['Position ID'].astype(str).str.zfill(max_digits)\n",
    "    gha_month_df['Source'] = 'GHA'\n",
    "    \n",
    "    # Merge with master to identify changes or new combinations\n",
    "    gha_changes = gha_month_df.merge(\n",
    "        master_df[['Position ID', 'Employee ID']], \n",
    "        on='Position ID', \n",
    "        how='left', \n",
    "        suffixes=('', '_master')\n",
    "    )\n",
    "    \n",
    "    # Identify changes: cases where Employee ID differs or is new\n",
    "    gha_changes = gha_changes[\n",
    "        (gha_changes['Employee ID_master'] != gha_changes['Employee ID']) | \n",
    "        (gha_changes['Employee ID_master'].isnull())\n",
    "    ]\n",
    "    \n",
    "    # Append these records to changes_df\n",
    "    changes_df = pd.concat([changes_df, gha_changes], ignore_index=True)\n",
    "    \n",
    "    # Repeat for Open Position data\n",
    "    open_pos_month_df = pd.read_csv(open_pos_file)\n",
    "    open_pos_month_df['Position ID'] = open_pos_month_df['Position ID'].astype(str).str.zfill(max_digits)\n",
    "    open_pos_month_df['Source'] = 'Open Position'\n",
    "    \n",
    "    # Merge with master to identify changes or new combinations\n",
    "    open_pos_changes = open_pos_month_df.merge(\n",
    "        master_df[['Position ID', 'Employee ID']], \n",
    "        on='Position ID', \n",
    "        how='left', \n",
    "        suffixes=('', '_master')\n",
    "    )\n",
    "    \n",
    "    # Identify changes: cases where Employee ID differs or is new\n",
    "    open_pos_changes = open_pos_changes[\n",
    "        (open_pos_changes['Employee ID_master'] != open_pos_changes['Employee ID']) | \n",
    "        (open_pos_changes['Employee ID_master'].isnull())\n",
    "    ]\n",
    "    \n",
    "    # Append these records to changes_df\n",
    "    changes_df = pd.concat([changes_df, open_pos_changes], ignore_index=True)\n",
    "\n",
    "# The changes_df now contains all new or changed Position ID and Employee ID combinations\n",
    "# You can now review or save changes_df as required\n"
   ]
  },
  {
   "cell_type": "code",
   "execution_count": null,
   "id": "0e9090b5",
   "metadata": {},
   "outputs": [],
   "source": []
  }
 ],
 "metadata": {
  "kernelspec": {
   "display_name": "Python 3",
   "language": "python",
   "name": "python3"
  },
  "language_info": {
   "codemirror_mode": {
    "name": "ipython",
    "version": 3
   },
   "file_extension": ".py",
   "mimetype": "text/x-python",
   "name": "python",
   "nbconvert_exporter": "python",
   "pygments_lexer": "ipython3",
   "version": "3.8.8"
  }
 },
 "nbformat": 4,
 "nbformat_minor": 5
}
