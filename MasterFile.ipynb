{
 "cells": [
  {
   "cell_type": "code",
   "execution_count": 1,
   "id": "b0ad55b0",
   "metadata": {},
   "outputs": [
    {
     "name": "stdout",
     "output_type": "stream",
     "text": [
      "  Position ID Employee ID  Jan 24  Feb 24  Mar 24\n",
      "0      000123        E001       1       1       0\n",
      "1      000456        E002       1       0       0\n",
      "2      000789        E003       0       0       1\n"
     ]
    }
   ],
   "source": [
    "import pandas as pd\n",
    "\n",
    "# Sample structure of your files list and month labels\n",
    "gha_files = [gha_jan_df, gha_feb_df, gha_mar_df]  # Replace with actual dataframes\n",
    "open_files = [open_jan_df, open_feb_df, open_mar_df]  # Replace with actual dataframes\n",
    "months = [\"Jan 24\", \"Feb 24\", \"Mar 24\"]  # Replace with actual month names\n",
    "\n",
    "# Define additional columns to check for changes\n",
    "additional_columns = ['Global Career Band', 'BF Level 4 Name', 'Work Location Country/Territory Name']\n",
    "\n",
    "# Initialize the master additional_cols_map to track Position ID and associated columns\n",
    "additional_cols_map = {}  # Dictionary to store the last known state of additional columns for each Position ID\n",
    "\n",
    "# DataFrame to store all changes\n",
    "changes_df = pd.DataFrame(columns=[\n",
    "    'Position ID', 'Employee ID', 'Month', 'Description'] + additional_columns\n",
    ")\n",
    "\n",
    "# Iterate over each month's file and check for changes\n",
    "for month, gha_df, open_df in zip(months, gha_files, open_files):\n",
    "    for df, source in [(gha_df, 'GHA'), (open_df, 'Open Position')]:        \n",
    "        # Skip if 'Open Position' as it lacks 'Employee ID'\n",
    "        if source == 'Open Position':\n",
    "            continue\n",
    "            \n",
    "        # Iterate over each row to detect changes\n",
    "        for _, row in df.iterrows():\n",
    "            pos_id = row['Position ID']\n",
    "            emp_id = row['Employee ID']\n",
    "            \n",
    "            # Initialize map entry if not exists\n",
    "            if pos_id not in additional_cols_map:\n",
    "                additional_cols_map[pos_id] = {\n",
    "                    'Employee ID': emp_id,\n",
    "                    **{col: row[col] for col in additional_columns}\n",
    "                }\n",
    "                \n",
    "            # Detect any change in Employee ID or additional columns\n",
    "            changes_detected = False\n",
    "            description_list = []\n",
    "\n",
    "            # Check for Employee ID change\n",
    "            if additional_cols_map[pos_id]['Employee ID'] != emp_id:\n",
    "                changes_detected = True\n",
    "                description_list.append(\"Employee ID Changed\")\n",
    "                additional_cols_map[pos_id]['Employee ID'] = emp_id\n",
    "\n",
    "            # Check for changes in additional columns\n",
    "            for col in additional_columns:\n",
    "                current_value = row[col]\n",
    "                if additional_cols_map[pos_id][col] != current_value:\n",
    "                    changes_detected = True\n",
    "                    description_list.append(f\"{col} Changed\")\n",
    "                    additional_cols_map[pos_id][col] = current_value\n",
    "\n",
    "            # If any changes are detected, add to changes_df\n",
    "            if changes_detected:\n",
    "                change_entry = {\n",
    "                    'Position ID': pos_id,\n",
    "                    'Employee ID': emp_id,\n",
    "                    'Month': month,\n",
    "                    'Description': \"; \".join(description_list)\n",
    "                }\n",
    "                for col in additional_columns:\n",
    "                    change_entry[col] = row[col]\n",
    "                changes_df = pd.concat([changes_df, pd.DataFrame([change_entry])], ignore_index=True)\n",
    "\n",
    "# Display or further process changes_df\n",
    "print(changes_df)\n"
   ]
  },
  {
   "cell_type": "code",
   "execution_count": null,
   "id": "bb84824a",
   "metadata": {},
   "outputs": [],
   "source": []
  }
 ],
 "metadata": {
  "kernelspec": {
   "display_name": "Python 3",
   "language": "python",
   "name": "python3"
  },
  "language_info": {
   "codemirror_mode": {
    "name": "ipython",
    "version": 3
   },
   "file_extension": ".py",
   "mimetype": "text/x-python",
   "name": "python",
   "nbconvert_exporter": "python",
   "pygments_lexer": "ipython3",
   "version": "3.8.8"
  }
 },
 "nbformat": 4,
 "nbformat_minor": 5
}
