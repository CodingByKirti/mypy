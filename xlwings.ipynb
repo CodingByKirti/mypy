{
 "cells": [
  {
   "cell_type": "markdown",
   "id": "725da359",
   "metadata": {},
   "source": [
    "# XLWings in and out"
   ]
  },
  {
   "cell_type": "code",
   "execution_count": null,
   "id": "6f1c3b76",
   "metadata": {},
   "outputs": [],
   "source": [
    "# import\n",
    "import xlwings as xw"
   ]
  },
  {
   "cell_type": "code",
   "execution_count": null,
   "id": "100ca0ae",
   "metadata": {},
   "outputs": [],
   "source": [
    "#Create a workbook\n",
    "wb = xw.Book()"
   ]
  },
  {
   "cell_type": "code",
   "execution_count": null,
   "id": "c1a0f328",
   "metadata": {},
   "outputs": [],
   "source": [
    "# get fullname of workbook\n",
    "wb.fullname"
   ]
  },
  {
   "cell_type": "code",
   "execution_count": null,
   "id": "40b6f5cd",
   "metadata": {},
   "outputs": [],
   "source": [
    "# get sheets names\n",
    "wb.sheets"
   ]
  },
  {
   "cell_type": "code",
   "execution_count": null,
   "id": "59b8623a",
   "metadata": {},
   "outputs": [],
   "source": [
    "# add new sheet\n",
    "wb.sheets.add(name=\"Test\", before=\"Sheet1\")\n",
    "wb.sheets.add(name=\"Test2\",after=\"Sheet1\")\n",
    "wb.sheets.add(name=\"Test3\",before=2)  # add sbefobefore sheet no.2\n"
   ]
  },
  {
   "cell_type": "code",
   "execution_count": null,
   "id": "259f5dd4",
   "metadata": {},
   "outputs": [],
   "source": [
    "# take sheetname as input \n",
    "wb.sheets.add(name=input(\"Enter Sheet Name:\\t\"), after=\"Test3\")"
   ]
  },
  {
   "cell_type": "code",
   "execution_count": null,
   "id": "9a79e268",
   "metadata": {},
   "outputs": [],
   "source": [
    "# count sheets\n",
    "wb.sheets.count"
   ]
  },
  {
   "cell_type": "code",
   "execution_count": null,
   "id": "f4dd624f",
   "metadata": {},
   "outputs": [],
   "source": [
    "# use loop to iterate oversheets\n",
    "for ws in wb.sheets:\n",
    "    print(ws.name)  # ws will print <Sheet [Book1]Test>..... and so on"
   ]
  },
  {
   "cell_type": "code",
   "execution_count": null,
   "id": "7566877e",
   "metadata": {},
   "outputs": [],
   "source": [
    "# activate a particular sheet\n",
    "wb.sheets(\"Sheet1\").activate()"
   ]
  },
  {
   "cell_type": "code",
   "execution_count": null,
   "id": "5861d0f8",
   "metadata": {},
   "outputs": [],
   "source": [
    "# delete a sheet\n",
    "wb.sheets(\"Sheet1\").delete()"
   ]
  },
  {
   "cell_type": "code",
   "execution_count": null,
   "id": "3017a467",
   "metadata": {},
   "outputs": [],
   "source": [
    "ws = wb.sheets(\"Test3\")\n",
    "ws.name"
   ]
  },
  {
   "cell_type": "code",
   "execution_count": null,
   "id": "423bf215",
   "metadata": {},
   "outputs": [],
   "source": [
    "ws.activate()"
   ]
  },
  {
   "cell_type": "code",
   "execution_count": null,
   "id": "351be2c3",
   "metadata": {},
   "outputs": [],
   "source": [
    "# number of cells\n",
    "ws.cells"
   ]
  },
  {
   "cell_type": "code",
   "execution_count": null,
   "id": "d2f88e4a",
   "metadata": {},
   "outputs": [],
   "source": [
    "# index of sheet  .. sheet1 = 1, she2 =2.. so on\n",
    "ws.index"
   ]
  },
  {
   "cell_type": "code",
   "execution_count": null,
   "id": "3438e04f",
   "metadata": {},
   "outputs": [],
   "source": [
    "# rename sheet\n",
    "ws.name = \"KSheet\""
   ]
  },
  {
   "cell_type": "code",
   "execution_count": null,
   "id": "496dc0cb",
   "metadata": {},
   "outputs": [],
   "source": [
    " wb.sheets[3]   # starting from 0,1,2,////"
   ]
  },
  {
   "cell_type": "code",
   "execution_count": null,
   "id": "653ebd6b",
   "metadata": {},
   "outputs": [],
   "source": [
    "# hide or unhide\n",
    "ws.api.Visible =False    # True\n"
   ]
  },
  {
   "cell_type": "code",
   "execution_count": null,
   "id": "3424d53d",
   "metadata": {},
   "outputs": [],
   "source": [
    "for sh in wb.sheets:\n",
    "    sh.api.Visible= True"
   ]
  },
  {
   "cell_type": "code",
   "execution_count": null,
   "id": "a45fe5f6",
   "metadata": {},
   "outputs": [],
   "source": [
    "wb.sheets[[\"Test2\",'KSheet']].api.Visible=True"
   ]
  },
  {
   "cell_type": "code",
   "execution_count": null,
   "id": "c0ba9a5b",
   "metadata": {},
   "outputs": [],
   "source": [
    "# select multiple sheets\n",
    "wb.sheets[[\"Test2\",\"KSheet\"]].select()"
   ]
  },
  {
   "cell_type": "code",
   "execution_count": null,
   "id": "4d301cf8",
   "metadata": {},
   "outputs": [],
   "source": [
    "# copy the sheet at the end of the sheet\n",
    "wb.sheets[\"KSheet\"].copy()"
   ]
  },
  {
   "cell_type": "code",
   "execution_count": null,
   "id": "f5323b99",
   "metadata": {},
   "outputs": [],
   "source": [
    "wb.sheets['KSheet'].copy(before=wb.sheets[\"KSheet\"] , name=\"KSSheet\")"
   ]
  },
  {
   "cell_type": "code",
   "execution_count": null,
   "id": "c9960d27",
   "metadata": {},
   "outputs": [],
   "source": [
    "# will create the copy of the sheet and paste it in a new workbook\n",
    "# wb.sheets['KSSheet'].api.Move(After =wb.sheets['Test2'].api)\n",
    "\n",
    "# will create the copy of the sheet and paste it in a same workbook because of 'None'\n",
    "wb.sheets['KSheet'].api.Move(None, After =wb.sheets['Test2'].api)\n"
   ]
  },
  {
   "cell_type": "code",
   "execution_count": null,
   "id": "47eee612",
   "metadata": {},
   "outputs": [],
   "source": [
    "# protect a worksheet, you will not be able to edit the sheet\n",
    "ws.api.Protect(Password='abc')"
   ]
  },
  {
   "cell_type": "code",
   "execution_count": null,
   "id": "c7c04a63",
   "metadata": {},
   "outputs": [],
   "source": [
    "# unprotect sheet\n",
    "ws.api.Unprotect(Password='abc')\n"
   ]
  },
  {
   "cell_type": "markdown",
   "id": "ac79e278",
   "metadata": {},
   "source": [
    "# Part-2\n"
   ]
  },
  {
   "cell_type": "code",
   "execution_count": null,
   "id": "ddc127ed",
   "metadata": {},
   "outputs": [],
   "source": [
    "import xlwings as xw"
   ]
  },
  {
   "cell_type": "code",
   "execution_count": null,
   "id": "3e539ecc",
   "metadata": {},
   "outputs": [],
   "source": [
    "xlApp = xw.App(visible =False)"
   ]
  },
  {
   "cell_type": "code",
   "execution_count": null,
   "id": "f048dce2",
   "metadata": {},
   "outputs": [],
   "source": [
    "xlApp.visible=True"
   ]
  },
  {
   "cell_type": "code",
   "execution_count": null,
   "id": "d75fcff2",
   "metadata": {},
   "outputs": [],
   "source": [
    "type(xlApp)"
   ]
  },
  {
   "cell_type": "code",
   "execution_count": null,
   "id": "1da399c5",
   "metadata": {},
   "outputs": [],
   "source": [
    "# open excel instance, but no workbokk should be opened \n",
    "app = xw.App(visible =True, add_book=False)"
   ]
  },
  {
   "cell_type": "code",
   "execution_count": null,
   "id": "38c488e6",
   "metadata": {},
   "outputs": [],
   "source": [
    "app = xw.App(visible =True, add_book=True)"
   ]
  },
  {
   "cell_type": "code",
   "execution_count": null,
   "id": "51f9888f",
   "metadata": {},
   "outputs": [],
   "source": [
    "# excel version\n",
    "app.version"
   ]
  },
  {
   "cell_type": "code",
   "execution_count": null,
   "id": "58eb8c73",
   "metadata": {},
   "outputs": [],
   "source": [
    "# count number of opened books\n",
    "xlApp.books.count"
   ]
  },
  {
   "cell_type": "code",
   "execution_count": null,
   "id": "06dc285f",
   "metadata": {},
   "outputs": [],
   "source": [
    "# open and create another workbook\n",
    "xw.Book()"
   ]
  },
  {
   "cell_type": "code",
   "execution_count": null,
   "id": "df812b2c",
   "metadata": {},
   "outputs": [],
   "source": [
    "# activating a workbook\n",
    "xw.Book('Book3').activate()"
   ]
  },
  {
   "cell_type": "code",
   "execution_count": null,
   "id": "ced89416",
   "metadata": {},
   "outputs": [],
   "source": [
    "# create an obj to point to a workbook\n",
    "wkb = xw.Book('Book1')"
   ]
  },
  {
   "cell_type": "code",
   "execution_count": null,
   "id": "9baa00d5",
   "metadata": {},
   "outputs": [],
   "source": [
    "wkb.activate()"
   ]
  },
  {
   "cell_type": "code",
   "execution_count": null,
   "id": "eec207ce",
   "metadata": {},
   "outputs": [],
   "source": [
    "wkb.name"
   ]
  },
  {
   "cell_type": "code",
   "execution_count": null,
   "id": "de3c08a4",
   "metadata": {},
   "outputs": [],
   "source": [
    "# add sheet to the workbook\n",
    "wkb.sheets.add()"
   ]
  },
  {
   "cell_type": "code",
   "execution_count": null,
   "id": "01573285",
   "metadata": {},
   "outputs": [],
   "source": [
    "# list of sheets\n",
    "wkb.sheets"
   ]
  },
  {
   "cell_type": "code",
   "execution_count": null,
   "id": "7d51fff8",
   "metadata": {},
   "outputs": [],
   "source": [
    "wkb.sheets.count"
   ]
  },
  {
   "cell_type": "code",
   "execution_count": null,
   "id": "4b2b921a",
   "metadata": {},
   "outputs": [],
   "source": [
    "# opening a saved workbook\n",
    "path = r\"C:\\Users\\KS\\Start-Data-Analysis.xlsx\""
   ]
  },
  {
   "cell_type": "code",
   "execution_count": null,
   "id": "cbb802f4",
   "metadata": {},
   "outputs": [],
   "source": [
    "mybook = xw.books.open(path)"
   ]
  },
  {
   "cell_type": "code",
   "execution_count": null,
   "id": "dbfdc8b2",
   "metadata": {},
   "outputs": [],
   "source": [
    "mybook.name"
   ]
  },
  {
   "cell_type": "code",
   "execution_count": null,
   "id": "e94c217d",
   "metadata": {},
   "outputs": [],
   "source": [
    "mybook.fullname"
   ]
  },
  {
   "cell_type": "code",
   "execution_count": null,
   "id": "a5de6f88",
   "metadata": {},
   "outputs": [],
   "source": [
    "# activate particular book's sheet\n",
    "xw.Book(\"Book1\").sheets['Sheet2'].activate()"
   ]
  },
  {
   "cell_type": "code",
   "execution_count": null,
   "id": "791228d3",
   "metadata": {},
   "outputs": [],
   "source": [
    "# create object to point to a particular sheet\n",
    "wkbSheet = xw.books[\"Book1\"].sheets[\"Sheet2\"]"
   ]
  },
  {
   "cell_type": "code",
   "execution_count": null,
   "id": "4ec195de",
   "metadata": {},
   "outputs": [],
   "source": [
    "wkbSheet.name"
   ]
  },
  {
   "cell_type": "code",
   "execution_count": null,
   "id": "0f88ff78",
   "metadata": {},
   "outputs": [],
   "source": [
    "# find thew name of the book, sheet belongs to\n",
    "wkbSheet.book"
   ]
  },
  {
   "cell_type": "code",
   "execution_count": null,
   "id": "c97ba93a",
   "metadata": {},
   "outputs": [],
   "source": [
    "wkbSheet.visible=False"
   ]
  },
  {
   "cell_type": "code",
   "execution_count": null,
   "id": "75b84a86",
   "metadata": {},
   "outputs": [],
   "source": [
    "# make use of os package for accessing files / folders/path\n",
    "import os\n",
    "os.getcwd()"
   ]
  },
  {
   "cell_type": "code",
   "execution_count": null,
   "id": "59e6b50c",
   "metadata": {},
   "outputs": [],
   "source": [
    "xw.Book(\"Book4\").save(\"c:\\\\Users\\\\KS\\\\OneDrive\\\\bb.xlsx\")"
   ]
  },
  {
   "cell_type": "code",
   "execution_count": null,
   "id": "ae977b6b",
   "metadata": {},
   "outputs": [],
   "source": [
    "xw.Book(\"Book1\").close()"
   ]
  },
  {
   "cell_type": "code",
   "execution_count": null,
   "id": "097b6ac8",
   "metadata": {},
   "outputs": [],
   "source": [
    "wkb = xlApp.books.open(path)\n",
    "wkb.name"
   ]
  },
  {
   "cell_type": "code",
   "execution_count": null,
   "id": "e6073ee3",
   "metadata": {},
   "outputs": [],
   "source": [
    "# open in read only mode\n",
    "ro_wkb = xlApp.books.open(path, read_only=True)"
   ]
  },
  {
   "cell_type": "code",
   "execution_count": null,
   "id": "d683d553",
   "metadata": {},
   "outputs": [],
   "source": [
    "xlApp.books.open?"
   ]
  },
  {
   "cell_type": "code",
   "execution_count": null,
   "id": "983b562e",
   "metadata": {},
   "outputs": [],
   "source": [
    "# supply passwordf fto open password protected file \n",
    "xlApp.books.open(path, password=\"abc\")"
   ]
  },
  {
   "cell_type": "code",
   "execution_count": null,
   "id": "4642931a",
   "metadata": {},
   "outputs": [],
   "source": [
    "# protect your password by using * or # to make the password non visible\n",
    "import getpass\n",
    "xlApp.books.open(path, password= getpass.getpass(), stream=None)\n",
    "getpass.getpass(prompt='Password',stream=None)"
   ]
  },
  {
   "cell_type": "code",
   "execution_count": null,
   "id": "45cb901f",
   "metadata": {},
   "outputs": [],
   "source": []
  },
  {
   "cell_type": "code",
   "execution_count": null,
   "id": "5136bf41",
   "metadata": {},
   "outputs": [],
   "source": [
    "path = r\"C:\\Users\\KS\\Start-Data-Analysis.xlsx\""
   ]
  },
  {
   "cell_type": "code",
   "execution_count": null,
   "id": "7f7e10aa",
   "metadata": {},
   "outputs": [],
   "source": [
    "xlApp.books.open(\"sf3_output.xlsx\")"
   ]
  },
  {
   "cell_type": "code",
   "execution_count": null,
   "id": "00289f9e",
   "metadata": {},
   "outputs": [],
   "source": [
    "df= xlApp.books(\"sf3_output.xlsx\").api.SaveAs(\"d:\\\\test.xlsx\",password=\"aaa\") "
   ]
  },
  {
   "cell_type": "code",
   "execution_count": null,
   "id": "b09cd48e",
   "metadata": {},
   "outputs": [],
   "source": [
    "xlApp.books.open(\"d:\\\\test.xlsx\", read_only=False)"
   ]
  },
  {
   "cell_type": "code",
   "execution_count": null,
   "id": "a7327879",
   "metadata": {},
   "outputs": [],
   "source": [
    "xw.Book(\"test.xlsx\").close()"
   ]
  },
  {
   "cell_type": "code",
   "execution_count": null,
   "id": "0976f180",
   "metadata": {},
   "outputs": [],
   "source": [
    "# open multiple workbooks\n",
    "# os.chdir(path) ## to change the directory\n",
    "os.getcwd()"
   ]
  },
  {
   "cell_type": "code",
   "execution_count": null,
   "id": "70a18fa5",
   "metadata": {},
   "outputs": [],
   "source": [
    "os.listdir()"
   ]
  },
  {
   "cell_type": "code",
   "execution_count": null,
   "id": "44cc9754",
   "metadata": {},
   "outputs": [],
   "source": [
    "for fl in os.listdir():\n",
    "    if \".csv\" in fl:\n",
    "        wkb = xw.Book(fl)"
   ]
  },
  {
   "cell_type": "code",
   "execution_count": null,
   "id": "c67baebd",
   "metadata": {},
   "outputs": [],
   "source": [
    "# activate the workbook\n",
    "wkb.name"
   ]
  },
  {
   "cell_type": "code",
   "execution_count": null,
   "id": "c9606521",
   "metadata": {},
   "outputs": [],
   "source": [
    "wkb.activate()"
   ]
  },
  {
   "cell_type": "markdown",
   "id": "ee0d84c3",
   "metadata": {},
   "source": [
    "# Filtering : AutoFilter /search data"
   ]
  },
  {
   "cell_type": "code",
   "execution_count": null,
   "id": "3e07fed4",
   "metadata": {},
   "outputs": [],
   "source": [
    "# open a workbook\n",
    "sales= xw.Book(\"Sample.xlsx\")"
   ]
  },
  {
   "cell_type": "code",
   "execution_count": null,
   "id": "36835f3b",
   "metadata": {},
   "outputs": [],
   "source": [
    "sales.sheets[0].api.Range(\"A1:E23\").AutoFilter(Field:=1, Criteria:=\"Bill Smith\")"
   ]
  },
  {
   "cell_type": "code",
   "execution_count": null,
   "id": "e1c835b0",
   "metadata": {},
   "outputs": [],
   "source": [
    "sales.sheets[0].api.AutoFilterMode=False"
   ]
  },
  {
   "cell_type": "code",
   "execution_count": null,
   "id": "154ed2ee",
   "metadata": {},
   "outputs": [],
   "source": [
    "sales.sheets[0].api.Range(\"A1:E23\").AutoFilter(Field:=1, Criteria:=\"Alia Thornton\") # Field:= col number i.e. here its col1: Col A. "
   ]
  },
  {
   "cell_type": "code",
   "execution_count": null,
   "id": "7157a2c2",
   "metadata": {},
   "outputs": [],
   "source": [
    "# select multiple criteria\n",
    "# following will get resultant data only for alia, as excel applies the filter one by one...\n",
    "\n",
    "sales.sheets[0].api.Range(\"A1:E23\").AutoFilter(Field:=1, Criteria:=[\"Bill Smith\",'alia thornton'])\n",
    "\n",
    "# to apply both at the same time\n",
    "sales.sheets[0].api.Range(\"A1:E23\").AutoFilter(Field:=1, Criteria:=[\"Bill Smith\",'alia thornton'], Operator:=7)\n",
    "\n"
   ]
  },
  {
   "cell_type": "code",
   "execution_count": null,
   "id": "669fa720",
   "metadata": {},
   "outputs": [],
   "source": [
    "#  Notes : always remeber : \n",
    "#             Field name \n",
    "#             Critera\n",
    "#             Operator :  for operators : google : xlautofilteroperator\n",
    "#                         refer the following link for details\n",
    "#             link : https://learn.microsoft.com/en-us/office/vba/api/excel.xlautofilteroperator"
   ]
  },
  {
   "cell_type": "code",
   "execution_count": null,
   "id": "88e2a386",
   "metadata": {},
   "outputs": [],
   "source": [
    "sales.sheets[0].api.AutoFilterMode=False"
   ]
  },
  {
   "cell_type": "code",
   "execution_count": null,
   "id": "6efaa2c5",
   "metadata": {},
   "outputs": [],
   "source": [
    "# show all data without removing filter : alt  D F S\n",
    "# in xlwings\n",
    "# sales.sheets[0].api.Range(\"A1:E23\").AutoFilter(Field:=1, Criteria:=[\"Bill Smith\",'alia thornton'], Operator:=7)\n",
    "sales.sheets[0].api.AutoFilter.ShowAllData()\n"
   ]
  },
  {
   "cell_type": "code",
   "execution_count": null,
   "id": "6571406d",
   "metadata": {},
   "outputs": [],
   "source": [
    "# select all data : ctrl A or ctrl +G=> special==> current region==> ok\n",
    "# do same in xlwings\n",
    "# instead of manually passing the range , we can select all data:\n",
    "sales.sheets[0].api.Range(\"A1\").CurrentRegion.AutoFilter(Field:=1, Criteria:=[\"Bill Smith\",'alia thornton'], Operator:=7)\n",
    "\n",
    "\n"
   ]
  },
  {
   "cell_type": "code",
   "execution_count": null,
   "id": "a07ee8a8",
   "metadata": {},
   "outputs": [],
   "source": [
    "# fetch top 5 records (top five \"Sale Amount\")\n",
    "sales.sheets[0].api.Range(\"A1\").CurrentRegion.AutoFilter(Field:=4, Criteria:=\"3\", Operator:=3)\n"
   ]
  },
  {
   "cell_type": "code",
   "execution_count": null,
   "id": "1cb73dbe",
   "metadata": {},
   "outputs": [],
   "source": [
    "# filter by cell color\n",
    "def rgbToInt(rgb):\n",
    "    colorInt = rgb[0]+(rgb[1]*256) +(rgb[2]*256*256)\n",
    "    return colorInt\n",
    "    "
   ]
  },
  {
   "cell_type": "code",
   "execution_count": null,
   "id": "41775704",
   "metadata": {},
   "outputs": [],
   "source": [
    "rgbToInt((255,217,102))   \n",
    "# fetch color code from excel, selct the cell,\n",
    "#select background color from toolbar , more colors, custom, copy the color codes from there only\n"
   ]
  },
  {
   "cell_type": "code",
   "execution_count": null,
   "id": "e50f3ffb",
   "metadata": {},
   "outputs": [],
   "source": [
    "sales.sheets[0].api.Range(\"A1\").CurrentRegion.AutoFilter(Field:=1, Criteria:=rgbToInt((255,217,102)), Operator:=8)\n"
   ]
  },
  {
   "cell_type": "code",
   "execution_count": null,
   "id": "83338f60",
   "metadata": {},
   "outputs": [],
   "source": [
    "sales.sheets[0].api.Range(\"A1\").CurrentRegion.AutoFilter(Field:=1, Criteria:=rgbToInt((255,0,0)), Operator:=8)\n"
   ]
  },
  {
   "cell_type": "markdown",
   "id": "1352156f",
   "metadata": {},
   "source": [
    "# Split Data"
   ]
  },
  {
   "cell_type": "code",
   "execution_count": 209,
   "id": "f90a45af",
   "metadata": {},
   "outputs": [],
   "source": [
    "wkb = xw.books.open(\"sample.xlsx\")"
   ]
  },
  {
   "cell_type": "code",
   "execution_count": 210,
   "id": "5f66e5d2",
   "metadata": {},
   "outputs": [],
   "source": [
    "# remove any filters , if any\n",
    "wkb.sheets[0].api.AutoFilterMode=False"
   ]
  },
  {
   "cell_type": "code",
   "execution_count": 219,
   "id": "cc33b022",
   "metadata": {},
   "outputs": [
    {
     "data": {
      "text/plain": [
       "Index(['Salesperson', 'ID Number', 'Date', 'Sale Amount', 'Commission'], dtype='object')"
      ]
     },
     "execution_count": 219,
     "metadata": {},
     "output_type": "execute_result"
    }
   ],
   "source": [
    "# fetch unique values from column # Salesperson\n",
    "df = pd.read_excel(\"Sample.xlsx\")\n",
    "df.columns"
   ]
  },
  {
   "cell_type": "code",
   "execution_count": 220,
   "id": "14691b9f",
   "metadata": {},
   "outputs": [
    {
     "data": {
      "text/plain": [
       "array(['Kennedi Singh', 'Harley Fritz', 'Nyla Novak', 'David Rasmussen',\n",
       "       'Ivan Hines', 'Jonah Higgins', 'Jordan Boone', 'Kylee Townsend',\n",
       "       'Nora Rollins', 'Steven Michael', 'Lucia Mckay', 'Josue Roach',\n",
       "       'Franklin Wright', 'Alia Thornton', 'Denzel Flores',\n",
       "       'Bruno Cordova', 'Jaylynn Knapp', 'Bruce Rich', 'Arturo Moore',\n",
       "       'Bryce Carpenter', 'Jaidyn Andersen', 'Bill Smith'], dtype=object)"
      ]
     },
     "execution_count": 220,
     "metadata": {},
     "output_type": "execute_result"
    }
   ],
   "source": [
    "df['Salesperson'].unique()"
   ]
  },
  {
   "cell_type": "code",
   "execution_count": 232,
   "id": "0fe0f664",
   "metadata": {},
   "outputs": [],
   "source": [
    "# notes : frefer to https://learn.microsoft.com/en-us/office/vba/api/excel.range.specialcells\n",
    "# SpecialCells : Returns a Range object that represents all the cells that match the specified type and value.\n",
    "sales = wkb.sheets(\"Sales\")\n",
    "for sp in df['Salesperson'].unique():\n",
    "    sales.api.Range(\"A1\").CurrentRegion.AutoFilter(Field:=1, Criteria:=sp)\n",
    "    sales.api.Range(\"A1\").CurrentRegion.SpecialCells(12).Copy()\n",
    "    sht = wkb.sheets.add(sp)\n",
    "    sht.range(\"A1\").api.PasteSpecial()\n",
    "    sht.range(\"A1\").api.CurrentRegion.EntireColumn.AutoFit()\n",
    "    sht.api.Application.CutCopyMode=False # or 0  \n",
    "sales.api.AutoFilterMode=False  # after all copy paste, \n",
    "sales.activate()\n",
    "    \n",
    "    \n",
    "# when we need help, open excel vba their type the code and hover the cursor to get that number:\n",
    "# Range(\"a1\").CurrenRegion.SpecialCells(xlCellTypeVisible).Copy\n",
    "# hover cursor over xlCellTypeVisible.. you will g\n",
    "# et 12\n",
    "    "
   ]
  },
  {
   "cell_type": "code",
   "execution_count": 235,
   "id": "64a01df0",
   "metadata": {},
   "outputs": [
    {
     "data": {
      "text/plain": [
       "42"
      ]
     },
     "execution_count": 235,
     "metadata": {},
     "output_type": "execute_result"
    }
   ],
   "source": [
    "# count total number of rows\n",
    "total_rows = sales.range(1,1).end('down').row\n",
    "total_rows"
   ]
  },
  {
   "cell_type": "code",
   "execution_count": 239,
   "id": "18a22dfc",
   "metadata": {},
   "outputs": [
    {
     "data": {
      "text/plain": [
       "True"
      ]
     },
     "execution_count": 239,
     "metadata": {},
     "output_type": "execute_result"
    }
   ],
   "source": [
    "# use xlwings to get unique values from a col. using removeduplicates\n",
    "sales.api.Range(\"A1:A\" +str(total_rows)).Copy()\n",
    "sales.api.Range(\"F1\").PasteSpecial()\n",
    "sales.api.Application.CutCopyMode=False # or 0   # suggested \n",
    "\n"
   ]
  },
  {
   "cell_type": "code",
   "execution_count": 240,
   "id": "d5292d5d",
   "metadata": {},
   "outputs": [],
   "source": [
    "#  columns:= number of cols from which duplicates are to be removed. header :=2, here 2 is xlNo (constant from vba)\n",
    "\n",
    "sales.api.Range(\"F1:F\"+ str(total_rows)).RemoveDuplicates(Columns:=1, Header=2)"
   ]
  },
  {
   "cell_type": "code",
   "execution_count": 241,
   "id": "24909fa9",
   "metadata": {},
   "outputs": [
    {
     "name": "stdout",
     "output_type": "stream",
     "text": [
      "Kennedi Singh\n",
      "Harley Fritz\n",
      "Nyla Novak\n",
      "David Rasmussen\n",
      "Ivan Hines\n",
      "Jonah Higgins\n",
      "Jordan Boone\n",
      "Kylee Townsend\n",
      "Nora Rollins\n",
      "Steven Michael\n",
      "Lucia Mckay\n",
      "Josue Roach\n",
      "Franklin Wright\n",
      "Alia Thornton\n",
      "Denzel Flores\n",
      "Bruno Cordova\n",
      "Jaylynn Knapp\n",
      "Bruce Rich\n",
      "Arturo Moore\n",
      "Bryce Carpenter\n",
      "Jaidyn Andersen\n",
      "Bill Smith\n",
      "None\n",
      "None\n",
      "None\n",
      "None\n",
      "None\n",
      "None\n",
      "None\n",
      "None\n",
      "None\n",
      "None\n",
      "None\n",
      "None\n",
      "None\n",
      "None\n",
      "None\n",
      "None\n",
      "None\n",
      "None\n",
      "None\n"
     ]
    }
   ],
   "source": [
    "for sp in range(2, sales.api.Range(\"F1\").CurrentRegion.Rows.Count+1):\n",
    "    print(sales.api.Range(\"F\" +str(sp)).Value)"
   ]
  },
  {
   "cell_type": "code",
   "execution_count": 242,
   "id": "3b0b1906",
   "metadata": {},
   "outputs": [
    {
     "data": {
      "text/plain": [
       "23"
      ]
     },
     "execution_count": 242,
     "metadata": {},
     "output_type": "execute_result"
    }
   ],
   "source": [
    "wkb.sheets.count"
   ]
  },
  {
   "cell_type": "markdown",
   "id": "795b0aa3",
   "metadata": {},
   "source": [
    "# Combine multiple sheets into one\n",
    "\n",
    "\n",
    "\n"
   ]
  },
  {
   "cell_type": "code",
   "execution_count": 244,
   "id": "e3889388",
   "metadata": {},
   "outputs": [],
   "source": [
    "try:\n",
    "    all_data_sheet = wkb.sheets.add(name=\"AllData\", after=\"Sales\")\n",
    "except:\n",
    "    wkb.sheets(\"AllData\").delete()\n",
    "    all_data_sheet = wkb.sheets.add(name=\"AllData\", after=\"Sales\")\n",
    "    \n",
    "for sht in wkb.sheets:\n",
    "    if sht.name !='Sales' or sht.name != \"AllData\":\n",
    "        wkb.sheets(sht.name).activate()\n",
    "        wkb.sheets(sht.name).api.Range(\"a1\").CurrentRegion.Copy()\n",
    "        i=1\n",
    "        if i==1:\n",
    "            all_data_sheet.activate()\n",
    "            all_data_sheet.range(\"a\"+str(i)).api.PasteSpecial()\n",
    "        else:\n",
    "            i= all_data_sheet.range(1,1).end('down').row+1\n",
    "            all_data_sheet.activate()\n",
    "            all_data_sheet.range(\"a\"+str(i)).api.PasteSpecial()\n",
    "all_data_sheet.activate()"
   ]
  },
  {
   "cell_type": "code",
   "execution_count": 246,
   "id": "ebd2bb6a",
   "metadata": {},
   "outputs": [
    {
     "name": "stdout",
     "output_type": "stream",
     "text": [
      "rows  42\n",
      "cols  6\n"
     ]
    }
   ],
   "source": [
    "print(\"rows \",all_data_sheet.range(1,1).end('down').row )\n",
    "print(\"cols \",all_data_sheet.range(1,1).end('right').column )"
   ]
  },
  {
   "cell_type": "code",
   "execution_count": null,
   "id": "90244e6c",
   "metadata": {},
   "outputs": [],
   "source": []
  }
 ],
 "metadata": {
  "kernelspec": {
   "display_name": "Python 3",
   "language": "python",
   "name": "python3"
  },
  "language_info": {
   "codemirror_mode": {
    "name": "ipython",
    "version": 3
   },
   "file_extension": ".py",
   "mimetype": "text/x-python",
   "name": "python",
   "nbconvert_exporter": "python",
   "pygments_lexer": "ipython3",
   "version": "3.8.8"
  }
 },
 "nbformat": 4,
 "nbformat_minor": 5
}
