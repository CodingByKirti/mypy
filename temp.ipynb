{
 "cells": [
  {
   "cell_type": "code",
   "execution_count": 4,
   "metadata": {},
   "outputs": [],
   "source": [
    "import pandas as pd\n",
    "import tkinter as tk\n",
    "from tkinter import filedialog, messagebox\n",
    "\n",
    "# Required sheet and column mapping\n",
    "required_sheets = {\n",
    "    'RTN': 'RTN',\n",
    "    'Location': 'Country',\n",
    "    'GCB': 'GCB'\n",
    "}\n",
    "\n",
    "def select_workbook():\n",
    "    \"\"\"Prompts the user to select an Excel file.\"\"\"\n",
    "    root = tk.Tk()\n",
    "    root.withdraw()  # Hide the main window\n",
    "    file_path = filedialog.askopenfilename(\n",
    "        title=\"Select Excel Workbook\",\n",
    "        filetypes=[(\"Excel files\", \"*.xlsx\")]\n",
    "    )\n",
    "    if not file_path:\n",
    "        raise Exception(\"No file selected.\")\n",
    "    return file_path\n",
    "\n",
    "def validate_workbook(file_path):\n",
    "    \"\"\"Validates presence of required sheets and columns.\"\"\"\n",
    "    try:\n",
    "        xl = pd.ExcelFile(file_path)\n",
    "    except Exception as e:\n",
    "        raise Exception(f\"Failed to open Excel file: {e}\")\n",
    "\n",
    "    for sheet, required_col in required_sheets.items():\n",
    "        if sheet not in xl.sheet_names:\n",
    "            raise Exception(f\"Missing required sheet: '{sheet}'\")\n",
    "\n",
    "        df = xl.parse(sheet)\n",
    "        df.columns = df.columns.str.strip()  # Remove extra spaces\n",
    "\n",
    "        if required_col not in df.columns:\n",
    "            raise Exception(f\"Sheet '{sheet}' must contain column '{required_col}'\")\n",
    "        \n",
    "        if df[required_col].isnull().any():\n",
    "            raise Exception(f\"Column '{required_col}' in sheet '{sheet}' contains blank values\")\n",
    "\n",
    "    print(\"Workbook validation successful.\")\n",
    "\n",
    "if __name__ == \"__main__\":\n",
    "    try:\n",
    "        file_path = select_workbook()\n",
    "        validate_workbook(file_path)\n",
    "        print(f\"Processing file: {file_path}\")\n",
    "        # Continue with your processing logic here...\n",
    "    except Exception as e:\n",
    "        print(f\"Error: {e}\")\n"
   ]
  }
 ],
 "metadata": {
  "kernelspec": {
   "display_name": "Python 3",
   "language": "python",
   "name": "python3"
  },
  "language_info": {
   "codemirror_mode": {
    "name": "ipython",
    "version": 3
   },
   "file_extension": ".py",
   "mimetype": "text/x-python",
   "name": "python",
   "nbconvert_exporter": "python",
   "pygments_lexer": "ipython3",
   "version": "3.8.8"
  }
 },
 "nbformat": 4,
 "nbformat_minor": 4
}
