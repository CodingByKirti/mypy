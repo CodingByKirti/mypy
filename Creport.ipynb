{
 "cells": [
  {
   "cell_type": "code",
   "execution_count": null,
   "id": "9e03dcc3",
   "metadata": {},
   "outputs": [],
   "source": [
    "import pandas as pd\n",
    "import re\n",
    "\n",
    "# Function to process each sheet\n",
    "def process_sheet(sheet):\n",
    "    # Find the header row\n",
    "    header_row = None\n",
    "    for index, row in sheet.iterrows():\n",
    "        if ('Entity' in row.values) and ('RTN Level 4' in row.values) and ('Account' in row.values):\n",
    "            header_row = index\n",
    "            break\n",
    "    \n",
    "    if header_row is None:\n",
    "        print(\"Header not found in the sheet.\")\n",
    "        return\n",
    "\n",
    "    # Row above header\n",
    "    year_row = header_row - 1\n",
    "\n",
    "    # Identify the Mxx, FY, and YTDxx columns and concatenate them with the row above\n",
    "    for col in sheet.columns:\n",
    "        if re.match(r'M\\d{2}', col) or col.startswith('FY') or re.match(r'YTD\\d{2}', col):\n",
    "            # Concatenate current cell with the one above\n",
    "            for idx in range(header_row + 1, len(sheet)):\n",
    "                sheet.at[idx, col] = f\"{sheet.at[year_row, col]} {sheet.at[idx, col]}\"\n",
    "\n",
    "    # Display for testing\n",
    "    print(f\"Processed sheet from header row {header_row}.\")\n",
    "\n",
    "# Main processing function\n",
    "def main():\n",
    "    # Get current year and month from user\n",
    "    current_year = input(\"Enter current year (e.g., 2024): \")\n",
    "    current_month = input(\"Enter current month (1-12): \")\n",
    "\n",
    "    # Load the workbook\n",
    "    excel_file = 'your_file.xlsx'  # Replace with your file path\n",
    "    xls = pd.ExcelFile(excel_file)\n",
    "    \n",
    "    # Process each sheet\n",
    "    for sheet_name in xls.sheet_names:\n",
    "        if 'excl' not in sheet_name:\n",
    "            sheet = pd.read_excel(xls, sheet_name=sheet_name)\n",
    "            process_sheet(sheet)\n",
    "\n",
    "            # Save back to the same or a new file\n",
    "            with pd.ExcelWriter('processed_file.xlsx', engine='openpyxl', mode='a') as writer:\n",
    "                sheet.to_excel(writer, sheet_name=sheet_name, index=False)\n",
    "\n",
    "if __name__ == \"__main__\":\n",
    "    main()\n"
   ]
  }
 ],
 "metadata": {
  "kernelspec": {
   "display_name": "Python 3",
   "language": "python",
   "name": "python3"
  },
  "language_info": {
   "codemirror_mode": {
    "name": "ipython",
    "version": 3
   },
   "file_extension": ".py",
   "mimetype": "text/x-python",
   "name": "python",
   "nbconvert_exporter": "python",
   "pygments_lexer": "ipython3",
   "version": "3.8.8"
  }
 },
 "nbformat": 4,
 "nbformat_minor": 5
}
