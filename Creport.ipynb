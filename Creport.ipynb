{
 "cells": [
  {
   "cell_type": "code",
   "execution_count": null,
   "id": "9e03dcc3",
   "metadata": {},
   "outputs": [],
   "source": [
    "def get_monthly_data(sheet, current_month, current_year):\n",
    "    \"\"\"Return only the month columns corresponding to the last three months.\"\"\"\n",
    "    month_columns = []\n",
    "    last_three_months = get_last_three_months(current_month, current_year)\n",
    "\n",
    "    print(f\"Last Three Months: {last_three_months}\")  # Debugging output\n",
    "\n",
    "    for col in sheet.columns:\n",
    "        match = re.match(r'M(\\d{2})(\\d{4})', col)  # Adjusted regex to capture month and year\n",
    "        if match:\n",
    "            month_num = int(match.group(1))  # Extract month number\n",
    "            year = int(match.group(2))  # Extract year\n",
    "            \n",
    "            if (month_num, year) in last_three_months:\n",
    "                month_columns.append(col)\n",
    "\n",
    "    print(f\"Identified Month Columns: {month_columns}\")  # Debugging output\n",
    "    return month_columns\n"
   ]
  }
 ],
 "metadata": {
  "kernelspec": {
   "display_name": "Python 3",
   "language": "python",
   "name": "python3"
  },
  "language_info": {
   "codemirror_mode": {
    "name": "ipython",
    "version": 3
   },
   "file_extension": ".py",
   "mimetype": "text/x-python",
   "name": "python",
   "nbconvert_exporter": "python",
   "pygments_lexer": "ipython3",
   "version": "3.8.8"
  }
 },
 "nbformat": 4,
 "nbformat_minor": 5
}
