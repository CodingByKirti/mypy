{
 "cells": [
  {
   "cell_type": "code",
   "execution_count": 62,
   "id": "558751f7",
   "metadata": {},
   "outputs": [],
   "source": [
    "# !pip install python-pptx\n",
    "from pptx import Presentation\n",
    "# for picture\n",
    "from pptx.util import Inches\n",
    "\n",
    "# for shapes\n",
    "from pptx.enum.shapes import MSO_SHAPE\n",
    "# to edit shape\n",
    "from pptx.enum.dml import MSO_THEME_COLOR\n",
    "\n",
    "# for charts\n",
    "from pptx.chart.data import CategoryChartData\n",
    "from pptx.enum.chart import XL_CHART_TYPE\n",
    "from pptx.enum.chart import XL_TICK_MARK\n",
    "from pptx.util import Pt\n"
   ]
  },
  {
   "cell_type": "code",
   "execution_count": 15,
   "id": "f7c32e86",
   "metadata": {},
   "outputs": [],
   "source": [
    "# create a presenattion to add slides to\n",
    "pr1 = Presentation()"
   ]
  },
  {
   "cell_type": "code",
   "execution_count": 16,
   "id": "84232afa",
   "metadata": {},
   "outputs": [],
   "source": [
    "# refers to the layouts of each slide\n",
    "# 0-title slide, 1 = title and content, 3=section header etc\n",
    "slide1_register = pr1.slide_layouts[0]"
   ]
  },
  {
   "cell_type": "code",
   "execution_count": 17,
   "id": "b68c72fd",
   "metadata": {},
   "outputs": [],
   "source": [
    "# Add initial slide to presentation\n",
    "slide1 = pr1.slides.add_slide(slide1_register)"
   ]
  },
  {
   "cell_type": "code",
   "execution_count": 18,
   "id": "be816576",
   "metadata": {},
   "outputs": [],
   "source": [
    "\"main top placeholder\"\n",
    "\n",
    "title = slide1.shapes.title"
   ]
  },
  {
   "cell_type": "code",
   "execution_count": 19,
   "id": "9455d938",
   "metadata": {},
   "outputs": [],
   "source": [
    "\"Placeholder = item in layout\"\n",
    "subtitle = slide1.placeholders[1]"
   ]
  },
  {
   "cell_type": "code",
   "execution_count": 20,
   "id": "a5b3952d",
   "metadata": {},
   "outputs": [],
   "source": [
    "\"Insert text\"\n",
    "title.text =\"Finance\"\n",
    "subtitle.text=\"Centre of Excellence\""
   ]
  },
  {
   "cell_type": "code",
   "execution_count": 38,
   "id": "7bd838d1",
   "metadata": {},
   "outputs": [],
   "source": [
    "# save the ppt\n",
    "pr1.save(\"Fin.pptx\")"
   ]
  },
  {
   "cell_type": "markdown",
   "id": "14e39212",
   "metadata": {},
   "source": [
    "# Add two more slides -Bullets Points and a picture"
   ]
  },
  {
   "cell_type": "code",
   "execution_count": 22,
   "id": "ae4a9716",
   "metadata": {},
   "outputs": [],
   "source": [
    "# create a slide to add  bullet points to it\n",
    "slide2_register = pr1.slide_layouts[1]\n",
    "slide2 = pr1.slides.add_slide(slide2_register)"
   ]
  },
  {
   "cell_type": "code",
   "execution_count": 31,
   "id": "610697c1",
   "metadata": {},
   "outputs": [],
   "source": [
    "title2 = slide2.shapes.title\n",
    "title2.text =\"Finance sub divisions\"\n",
    "\n",
    "# for bullet points\n",
    "bullet_pt_box = slide2.shapes\n",
    "bullet_pt_l1 = bullet_pt_box.placeholders[1]\n",
    "bullet_pt_l1.text =\"COE\"\n",
    "\n",
    "bullet_pt_l2 = bullet_pt_l1.text_frame.add_paragraph()\n",
    "# add text and specify level of nesting.. level of bullet point..\n",
    "bullet_pt_l2.text=\"Support team\"\n",
    "bullet_pt_l2.level=2\n",
    "\n",
    "\n",
    "bullet_pt_l3= bullet_pt_l1.text_frame.add_paragraph()\n",
    "# add text and specify level of nesting.. level of bullet point..\n",
    "bullet_pt_l3.text=\"Projects team\"\n",
    "bullet_pt_l3.level=2\n",
    "\n",
    "bullet_pt_l4 = bullet_pt_l1.text_frame.add_paragraph()\n",
    "# add text and specify level of nesting.. level of bullet point..\n",
    "bullet_pt_l4.text=\"Migrations Team\"\n",
    "bullet_pt_l4.level=3\n",
    "\n"
   ]
  },
  {
   "cell_type": "code",
   "execution_count": 47,
   "id": "7104b58e",
   "metadata": {},
   "outputs": [],
   "source": [
    "# slide 3 add pictures\n",
    "\n",
    "slide3_regsiter = pr1.slide_layouts[5]  # slide with only title\n",
    "slide3 = pr1.slides.add_slide(slide3_regsiter)\n",
    "\n",
    "# edit bullet point and picture slide\n",
    "title3 = slide3.shapes.title\n",
    "title3.text =\"Picture Time!\"\n",
    "\n",
    "img1 =\"smile.PNG\"\n",
    "\n",
    "from_left = Inches(3)\n",
    "from_top = Inches(4)\n",
    "add_picture = slide3.shapes.add_picture(img1, from_left,from_top)\n",
    "\n"
   ]
  },
  {
   "cell_type": "code",
   "execution_count": 65,
   "id": "f9242052",
   "metadata": {},
   "outputs": [],
   "source": [
    "pr1.save(\"Fin.pptx\")"
   ]
  },
  {
   "cell_type": "markdown",
   "id": "f5fbcd0c",
   "metadata": {},
   "source": [
    "# Adding shapes "
   ]
  },
  {
   "cell_type": "code",
   "execution_count": 59,
   "id": "8f09308d",
   "metadata": {},
   "outputs": [],
   "source": [
    "slide4_register = pr1.slide_layouts[5]\n",
    "slide4= pr1.slides.add_slide(slide4_register)\n",
    "\n",
    "title4= slide4.shapes.title\n",
    "title4.text=\"Working with Shapes\"\n",
    "\n",
    "# create shape:\n",
    "# shape1\n",
    "left1= top1=width1 =height1 =Inches(2)\n",
    "shape1 = slide4.shapes.add_shape(MSO_SHAPE.ROUNDED_RECTANGLE,left1, top1, width1, height1)\n",
    "\n",
    "#shape 2\n",
    "\n",
    "left2=Inches(6)\n",
    "top2=width2 =height2 =Inches(2)\n",
    "arrow1 = slide4.shapes.add_shape(MSO_SHAPE.DOWN_ARROW,left2, top2, width2, height2)\n",
    "\n",
    "\n",
    "# change color of main arrow shape \n",
    "fill_arr1 = arrow1.fill\n",
    "fill_arr1.solid()\n",
    "fill_arr1.fore_color.theme_colo r = MSO_THEME_COLOR.ACCENT_2\n",
    "\n",
    "# rotate shape\n",
    "arrow1.rotation = 90  # 90 is +90 rotate by 90 degree, anti-cloack wise put -90 instead"
   ]
  },
  {
   "cell_type": "markdown",
   "id": "1bef74bc",
   "metadata": {},
   "source": [
    " # adding graphs"
   ]
  },
  {
   "cell_type": "code",
   "execution_count": 70,
   "id": "98e88ffb",
   "metadata": {},
   "outputs": [],
   "source": [
    "slide5_register = pr1.slide_layouts[5]\n",
    "slide5 = pr1.slides.add_slide(slide5_register)\n",
    "\n",
    "title5= slide5.shapes.title\n",
    "title5.text =\"Graphs\"\n",
    "\n",
    "# Build Graphs\n",
    "\n",
    "graph_info  = CategoryChartData()\n",
    "graph_info.categories =['A','B','C','D']\n",
    "graph_info.add_series(\"Series 1 \",(11,18,15,9))\n",
    "\n",
    "# Add graph to slid with positioning\n",
    "\n",
    "left_graph = top_graph = Inches(2)\n",
    "width_graph = Inches(6)\n",
    "height_graph = Inches(4)\n",
    "# slide5.shapes.add_chart(XL_CHART_TYPE.COLUMN_CLUSTERED, left_graph, top_graph, width_graph, height_graph, graph_info)\n",
    "# graph_frm1=\n",
    "\n",
    "\n"
   ]
  },
  {
   "cell_type": "code",
   "execution_count": 71,
   "id": "d3a10a93",
   "metadata": {},
   "outputs": [],
   "source": [
    "# edit the graph\n",
    "graph_frm1 =slide5.shapes.add_chart(XL_CHART_TYPE.COLUMN_CLUSTERED, left_graph, top_graph, width_graph, height_graph, graph_info)\n",
    "graph1 = graph_frm1.chart\n",
    "category_axis= graph1.category_axis\n",
    "category_axis.has_major_gridlines=True\n",
    "category_axis.minor_tick_mark = XL_TICK_MARK.OUTSIDE\n",
    "category_axis.tick_labels.font.italic =True\n",
    "category_axis.tick_labels.font.size=Pt(24)\n",
    "\n",
    "pr1.save(\"fingraphs.pptx\")"
   ]
  },
  {
   "cell_type": "markdown",
   "id": "25070c8d",
   "metadata": {},
   "source": [
    "# Adding Tables"
   ]
  },
  {
   "cell_type": "code",
   "execution_count": 74,
   "id": "aaebe24e",
   "metadata": {},
   "outputs": [],
   "source": [
    "slide6_register = pr1.slide_layouts[5]\n",
    "slide6 = pr1.slides.add_slide(slide6_register)\n",
    "\n",
    "title6= slide6.shapes.title\n",
    "title6.text =\"Table\"\n",
    "\n",
    "left_table = Inches(1)\n",
    "top_table = Inches(2)\n",
    "width_table = Inches(8)\n",
    "height_table = Inches(3)\n",
    "\n",
    "table_frm1 =slide6.shapes.add_table(3,4, left_table, top_table, width_table, height_table)\n",
    "\n"
   ]
  },
  {
   "cell_type": "code",
   "execution_count": 76,
   "id": "c12085a0",
   "metadata": {},
   "outputs": [],
   "source": [
    "# edit table\n",
    "table1 = table_frm1.table\n",
    "cell = table1.cell(0,0)\n",
    "cell.text=\"Emp ID\"\n",
    "cell2 = table1.cell(1,0)\n",
    "cell2.text=\"A009\""
   ]
  },
  {
   "cell_type": "code",
   "execution_count": 79,
   "id": "fcd59d1d",
   "metadata": {},
   "outputs": [],
   "source": [
    "pr1.save(\"Fin1.pptx\")"
   ]
  },
  {
   "cell_type": "markdown",
   "id": "d0ab904a",
   "metadata": {},
   "source": [
    "# Adding hyperlinks"
   ]
  },
  {
   "cell_type": "code",
   "execution_count": 78,
   "id": "a95aaf95",
   "metadata": {},
   "outputs": [],
   "source": [
    "slide7_register = pr1.slide_layouts[0]\n",
    "slide7 = pr1.slides.add_slide(slide7_register)\n",
    "\n",
    "title7= slide7.shapes.title\n",
    "title7.text =\"Hyperlinks\"\n",
    "\n",
    "# add hyperlink\n",
    "# create a textframe within our placeholder \n",
    "# which will contain the text to have hyperlink\n",
    "para1 = slide7.placeholders[1].text_frame.paragraphs[0]  # [1] ==> 1st placeholder\n",
    "addrun1 = para1.add_run()\n",
    "addrun1.text =\"Google hyperlink\"\n",
    "hlink = addrun1.hyperlink\n",
    "hlink.address = \"https://www.google.co.in\"\n"
   ]
  },
  {
   "cell_type": "markdown",
   "id": "399ef1d8",
   "metadata": {},
   "source": [
    "# create a sample presentation"
   ]
  },
  {
   "cell_type": "code",
   "execution_count": null,
   "id": "4fb4295f",
   "metadata": {},
   "outputs": [],
   "source": [
    "prs = Presentation() # create a presentation\n",
    "img_slide_layout = prs.slide_layouts[5]\n",
    "page=1\n",
    "\n",
    "# create slide\n",
    "title_slide_layout =prs.slide_layouts[0]\n",
    "slide = prs.slides.add_slide(title_slide_layout)\n",
    "title = slide.shapes.title\n",
    "subtitle = slide.placeholders[1]\n",
    "bg = slide.background\n",
    "fill = bg.fill\n",
    "fill.solide()\n",
    "fill.fore_color.rgb= RGBColor(0,32,96)\n",
    "\n",
    "# add title\n",
    "title.text =\"Analysis Report\"\n",
    "title.text_frame.paragraphs[0].font.color.gb= RGBColor(255,255,255)\n",
    "\n",
    "# add subtitle\n",
    "subtitle.text =\"Headcount Report\".format(len(LIST_WEEKS))\n",
    "subtitle.text_frame.paragraphs[0].font.color.gb= RGBColor(255,255,255)\n",
    "\n"
   ]
  },
  {
   "cell_type": "code",
   "execution_count": null,
   "id": "17201428",
   "metadata": {},
   "outputs": [],
   "source": [
    "# create other slides with the help of loop\n",
    "\n",
    "for WEEK in LIST_WEEKS:\n",
    "    # create Plot\n",
    "    avg_ration, max_ratio, busy_day, max_lines "
   ]
  },
  {
   "cell_type": "code",
   "execution_count": 77,
   "id": "fee30bed",
   "metadata": {},
   "outputs": [],
   "source": []
  },
  {
   "cell_type": "code",
   "execution_count": null,
   "id": "f0befc0b",
   "metadata": {},
   "outputs": [],
   "source": []
  },
  {
   "cell_type": "code",
   "execution_count": null,
   "id": "de508f02",
   "metadata": {},
   "outputs": [],
   "source": []
  },
  {
   "cell_type": "code",
   "execution_count": null,
   "id": "d3425682",
   "metadata": {},
   "outputs": [],
   "source": []
  },
  {
   "cell_type": "code",
   "execution_count": null,
   "id": "900a6864",
   "metadata": {},
   "outputs": [],
   "source": []
  },
  {
   "cell_type": "code",
   "execution_count": null,
   "id": "48a1cef9",
   "metadata": {},
   "outputs": [],
   "source": []
  },
  {
   "cell_type": "code",
   "execution_count": null,
   "id": "2848294c",
   "metadata": {},
   "outputs": [],
   "source": []
  },
  {
   "cell_type": "code",
   "execution_count": null,
   "id": "d701da56",
   "metadata": {},
   "outputs": [],
   "source": []
  },
  {
   "cell_type": "code",
   "execution_count": null,
   "id": "87b861f1",
   "metadata": {},
   "outputs": [],
   "source": []
  },
  {
   "cell_type": "code",
   "execution_count": null,
   "id": "62c34864",
   "metadata": {},
   "outputs": [],
   "source": []
  },
  {
   "cell_type": "code",
   "execution_count": null,
   "id": "ae7d8471",
   "metadata": {},
   "outputs": [],
   "source": []
  },
  {
   "cell_type": "code",
   "execution_count": 3,
   "id": "dd338f12",
   "metadata": {},
   "outputs": [],
   "source": [
    "import pptx\n",
    "import os\n",
    "from pptx import Presentation\n",
    "from pptx.util import Inches"
   ]
  },
  {
   "cell_type": "code",
   "execution_count": 4,
   "id": "8479f516",
   "metadata": {},
   "outputs": [],
   "source": [
    "# create presentation object\n",
    "\n",
    "prs = Presentation()\n",
    "\n",
    "\n",
    "# presentation = pptx.Presentation()"
   ]
  },
  {
   "cell_type": "code",
   "execution_count": 6,
   "id": "44885183",
   "metadata": {},
   "outputs": [],
   "source": [
    "# prs.slide_layouts?"
   ]
  },
  {
   "cell_type": "code",
   "execution_count": 7,
   "id": "57bb5265",
   "metadata": {},
   "outputs": [],
   "source": [
    "#add slides to the presentation using the add_slide()\n",
    "# add a slide with a title and content layout\n",
    "slide_layout = prs.slide_layouts[1]  # Title and Content layout\n",
    "slide = prs.slides.add_slide(slide_layout)\n"
   ]
  },
  {
   "cell_type": "code",
   "execution_count": 8,
   "id": "d5f5716e",
   "metadata": {},
   "outputs": [],
   "source": [
    "title = slide.shapes.title\n",
    "content = slide.placeholders[1]\n",
    "\n",
    "title.text = \"My Title\"\n",
    "content.text = \"This is the content of my slide.\"\n"
   ]
  },
  {
   "cell_type": "code",
   "execution_count": 9,
   "id": "2564360e",
   "metadata": {},
   "outputs": [],
   "source": [
    "prs.save(\"my_presentation.pptx\")\n"
   ]
  },
  {
   "cell_type": "code",
   "execution_count": null,
   "id": "64718df8",
   "metadata": {},
   "outputs": [],
   "source": []
  },
  {
   "cell_type": "code",
   "execution_count": null,
   "id": "f9d48a5f",
   "metadata": {},
   "outputs": [],
   "source": [
    "# Slide layouts: Slide layouts define the arrangement of placeholders on a slide\n",
    "# Placeholders: are containers on a slide that hold specific types of content,\n",
    "# such as text, images, or charts. Each layout has predefined placeholders arranged in a \n",
    "# specific manner. \n",
    "# When you add content to a slide, you target these placeholders."
   ]
  },
  {
   "cell_type": "code",
   "execution_count": 10,
   "id": "0812774b",
   "metadata": {},
   "outputs": [],
   "source": [
    "# read from excel and write to ppt\n",
    "from openpyxl import load_workbook\n",
    "from pptx import Presentation\n",
    "\n",
    "# Load the Excel workbook\n",
    "workbook = load_workbook('sample.xlsx')\n",
    "\n",
    "# Create a PowerPoint presentation\n",
    "prs = Presentation()\n",
    "\n",
    "# Iterate over sheets in the workbook\n",
    "for sheet in workbook.sheetnames:\n",
    "    slide_layout = prs.slide_layouts[1]  # Title and Content layout\n",
    "    slide = prs.slides.add_slide(slide_layout)\n",
    "    title = slide.shapes.title\n",
    "    content = slide.placeholders[1]\n",
    "    \n",
    "    # Set slide title to sheet name\n",
    "    title.text = sheet\n",
    "    \n",
    "    # Read data from a particular cell, for example, A1\n",
    "    data = workbook[sheet]['D2'].value\n",
    "    \n",
    "    # Populate slide content with the data\n",
    "    content.text = str(data) if data else \"No data\"\n",
    "\n",
    "# Save the presentation\n",
    "prs.save(\"presentation_with_excel_data.pptx\")\n"
   ]
  },
  {
   "cell_type": "code",
   "execution_count": 13,
   "id": "95a5516e",
   "metadata": {},
   "outputs": [
    {
     "ename": "AttributeError",
     "evalue": "'str' object has no attribute 'font'",
     "output_type": "error",
     "traceback": [
      "\u001b[1;31m---------------------------------------------------------------------------\u001b[0m",
      "\u001b[1;31mAttributeError\u001b[0m                            Traceback (most recent call last)",
      "\u001b[1;32m<ipython-input-13-cab46b252bfc>\u001b[0m in \u001b[0;36m<module>\u001b[1;34m\u001b[0m\n\u001b[0;32m     43\u001b[0m \u001b[1;33m\u001b[0m\u001b[0m\n\u001b[0;32m     44\u001b[0m             \u001b[1;31m# Copy formatting from Excel\u001b[0m\u001b[1;33m\u001b[0m\u001b[1;33m\u001b[0m\u001b[1;33m\u001b[0m\u001b[0m\n\u001b[1;32m---> 45\u001b[1;33m             \u001b[0mcell\u001b[0m\u001b[1;33m.\u001b[0m\u001b[0mfont\u001b[0m\u001b[1;33m.\u001b[0m\u001b[0mbold\u001b[0m \u001b[1;33m=\u001b[0m \u001b[0mws\u001b[0m\u001b[1;33m.\u001b[0m\u001b[0mcell\u001b[0m\u001b[1;33m(\u001b[0m\u001b[0mrow\u001b[0m\u001b[1;33m=\u001b[0m\u001b[0mi\u001b[0m \u001b[1;33m+\u001b[0m \u001b[1;36m1\u001b[0m\u001b[1;33m,\u001b[0m \u001b[0mcolumn\u001b[0m\u001b[1;33m=\u001b[0m\u001b[0mj\u001b[0m \u001b[1;33m+\u001b[0m \u001b[1;36m1\u001b[0m\u001b[1;33m)\u001b[0m\u001b[1;33m.\u001b[0m\u001b[0mstyle\u001b[0m\u001b[1;33m.\u001b[0m\u001b[0mfont\u001b[0m\u001b[1;33m.\u001b[0m\u001b[0mbold\u001b[0m\u001b[1;33m\u001b[0m\u001b[1;33m\u001b[0m\u001b[0m\n\u001b[0m\u001b[0;32m     46\u001b[0m             \u001b[0mcell\u001b[0m\u001b[1;33m.\u001b[0m\u001b[0mfont\u001b[0m\u001b[1;33m.\u001b[0m\u001b[0mitalic\u001b[0m \u001b[1;33m=\u001b[0m \u001b[0mws\u001b[0m\u001b[1;33m.\u001b[0m\u001b[0mcell\u001b[0m\u001b[1;33m(\u001b[0m\u001b[0mrow\u001b[0m\u001b[1;33m=\u001b[0m\u001b[0mi\u001b[0m \u001b[1;33m+\u001b[0m \u001b[1;36m1\u001b[0m\u001b[1;33m,\u001b[0m \u001b[0mcolumn\u001b[0m\u001b[1;33m=\u001b[0m\u001b[0mj\u001b[0m \u001b[1;33m+\u001b[0m \u001b[1;36m1\u001b[0m\u001b[1;33m)\u001b[0m\u001b[1;33m.\u001b[0m\u001b[0mstyle\u001b[0m\u001b[1;33m.\u001b[0m\u001b[0mfont\u001b[0m\u001b[1;33m.\u001b[0m\u001b[0mitalic\u001b[0m\u001b[1;33m\u001b[0m\u001b[1;33m\u001b[0m\u001b[0m\n\u001b[0;32m     47\u001b[0m             \u001b[0mcell\u001b[0m\u001b[1;33m.\u001b[0m\u001b[0mfont\u001b[0m\u001b[1;33m.\u001b[0m\u001b[0mcolor\u001b[0m\u001b[1;33m.\u001b[0m\u001b[0mrgb\u001b[0m \u001b[1;33m=\u001b[0m \u001b[0mRGBColor\u001b[0m\u001b[1;33m(\u001b[0m\u001b[1;33m*\u001b[0m\u001b[0mws\u001b[0m\u001b[1;33m.\u001b[0m\u001b[0mcell\u001b[0m\u001b[1;33m(\u001b[0m\u001b[0mrow\u001b[0m\u001b[1;33m=\u001b[0m\u001b[0mi\u001b[0m \u001b[1;33m+\u001b[0m \u001b[1;36m1\u001b[0m\u001b[1;33m,\u001b[0m \u001b[0mcolumn\u001b[0m\u001b[1;33m=\u001b[0m\u001b[0mj\u001b[0m \u001b[1;33m+\u001b[0m \u001b[1;36m1\u001b[0m\u001b[1;33m)\u001b[0m\u001b[1;33m.\u001b[0m\u001b[0mstyle\u001b[0m\u001b[1;33m.\u001b[0m\u001b[0mfont\u001b[0m\u001b[1;33m.\u001b[0m\u001b[0mcolor\u001b[0m\u001b[1;33m.\u001b[0m\u001b[0mrgb\u001b[0m\u001b[1;33m)\u001b[0m\u001b[1;33m\u001b[0m\u001b[1;33m\u001b[0m\u001b[0m\n",
      "\u001b[1;31mAttributeError\u001b[0m: 'str' object has no attribute 'font'"
     ]
    }
   ],
   "source": [
    "# copy data as tables from underlying sheets along with formatting\n",
    "from openpyxl import load_workbook\n",
    "from pptx import Presentation\n",
    "from pptx.util import Inches\n",
    "from pptx.enum.text import PP_ALIGN\n",
    "from pptx.dml.color import RGBColor\n",
    "\n",
    "# Load Excel workbook\n",
    "workbook = load_workbook('sample.xlsx')\n",
    "\n",
    "# Create PowerPoint presentation\n",
    "prs = Presentation()\n",
    "\n",
    "# Iterate over sheets in the workbook\n",
    "for sheet in workbook.sheetnames:\n",
    "    # Create slide\n",
    "    slide_layout = prs.slide_layouts[5]  # Blank layout\n",
    "    slide = prs.slides.add_slide(slide_layout)\n",
    "    \n",
    "    # Set slide title to sheet name\n",
    "    title = slide.shapes.title\n",
    "    title.text = sheet\n",
    "    \n",
    "    # Get sheet data\n",
    "    ws = workbook[sheet]\n",
    "    max_row = ws.max_row\n",
    "    max_col = ws.max_column\n",
    "    \n",
    "    # Calculate table size\n",
    "    left = Inches(1)\n",
    "    top = Inches(1.5)\n",
    "    width = Inches(8)\n",
    "    height = Inches(5)\n",
    "    \n",
    "    # Create table on slide\n",
    "    table = slide.shapes.add_table(rows=max_row, cols=max_col, left=left, top=top, width=width, height=height).table\n",
    "    \n",
    "    # Populate table with data and formatting from Excel\n",
    "    for i, row in enumerate(ws.iter_rows(values_only=True), start=0):\n",
    "        for j, value in enumerate(row, start=0):\n",
    "            cell = table.cell(i, j)\n",
    "            cell.text = str(value) if value else \"\"  # Convert None to empty string\n",
    "            \n",
    "            # Copy formatting from Excel\n",
    "            cell.font.bold = ws.cell(row=i + 1, column=j + 1).style.font.bold\n",
    "            cell.font.italic = ws.cell(row=i + 1, column=j + 1).style.font.italic\n",
    "            cell.font.color.rgb = RGBColor(*ws.cell(row=i + 1, column=j + 1).style.font.color.rgb)\n",
    "            cell.text_frame.paragraphs[0].alignment = ws.cell(row=i + 1, column=j + 1).style.alignment\n",
    "            \n",
    "            # Set font size\n",
    "            font_size = ws.cell(row=i + 1, column=j + 1).style.font.sz\n",
    "            if font_size is not None:\n",
    "                cell.text_frame.paragraphs[0].font.size = font_size.pt\n",
    "\n",
    "# Save presentation\n",
    "prs.save(\"presentation_with_excel_tables.pptx\")\n"
   ]
  },
  {
   "cell_type": "code",
   "execution_count": null,
   "id": "5a0e55eb",
   "metadata": {},
   "outputs": [],
   "source": []
  }
 ],
 "metadata": {
  "kernelspec": {
   "display_name": "Python 3",
   "language": "python",
   "name": "python3"
  },
  "language_info": {
   "codemirror_mode": {
    "name": "ipython",
    "version": 3
   },
   "file_extension": ".py",
   "mimetype": "text/x-python",
   "name": "python",
   "nbconvert_exporter": "python",
   "pygments_lexer": "ipython3",
   "version": "3.8.8"
  }
 },
 "nbformat": 4,
 "nbformat_minor": 5
}
